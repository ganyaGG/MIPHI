{
  "nbformat": 4,
  "nbformat_minor": 0,
  "metadata": {
    "colab": {
      "provenance": [],
      "include_colab_link": true
    },
    "kernelspec": {
      "name": "python3",
      "display_name": "Python 3"
    },
    "language_info": {
      "name": "python"
    }
  },
  "cells": [
    {
      "cell_type": "markdown",
      "metadata": {
        "id": "view-in-github",
        "colab_type": "text"
      },
      "source": [
        "<a href=\"https://colab.research.google.com/github/ganyaGG/MIPHI/blob/main/_3.ipynb\" target=\"_parent\"><img src=\"https://colab.research.google.com/assets/colab-badge.svg\" alt=\"Open In Colab\"/></a>"
      ]
    },
    {
      "cell_type": "code",
      "execution_count": null,
      "metadata": {
        "id": "MXXTuy_o0sjk"
      },
      "outputs": [],
      "source": [
        "!pip install -q -U kaggle_environments\n",
        "!apt-get install -qq git"
      ]
    },
    {
      "cell_type": "code",
      "source": [
        "import numpy as np\n",
        "import pandas as pd\n",
        "import random\n",
        "import matplotlib.pyplot as plt\n",
        "import seaborn as sns\n",
        "from kaggle_environments import make, evaluate"
      ],
      "metadata": {
        "id": "yz23vWHD0wcj",
        "colab": {
          "base_uri": "https://localhost:8080/"
        },
        "outputId": "a8c13cc4-81c5-4ed9-b3f4-9ccb8520e1ae"
      },
      "execution_count": null,
      "outputs": [
        {
          "output_type": "stream",
          "name": "stderr",
          "text": [
            "/usr/local/lib/python3.10/dist-packages/pygame/pkgdata.py:25: DeprecationWarning: pkg_resources is deprecated as an API. See https://setuptools.pypa.io/en/latest/pkg_resources.html\n",
            "  from pkg_resources import resource_stream, resource_exists\n",
            "/usr/local/lib/python3.10/dist-packages/pkg_resources/__init__.py:3154: DeprecationWarning: Deprecated call to `pkg_resources.declare_namespace('google')`.\n",
            "Implementing implicit namespace packages (as specified in PEP 420) is preferred to `pkg_resources.declare_namespace`. See https://setuptools.pypa.io/en/latest/references/keywords.html#keyword-namespace-packages\n",
            "  declare_namespace(pkg)\n",
            "/usr/local/lib/python3.10/dist-packages/pkg_resources/__init__.py:3154: DeprecationWarning: Deprecated call to `pkg_resources.declare_namespace('google.cloud')`.\n",
            "Implementing implicit namespace packages (as specified in PEP 420) is preferred to `pkg_resources.declare_namespace`. See https://setuptools.pypa.io/en/latest/references/keywords.html#keyword-namespace-packages\n",
            "  declare_namespace(pkg)\n",
            "/usr/local/lib/python3.10/dist-packages/pkg_resources/__init__.py:3154: DeprecationWarning: Deprecated call to `pkg_resources.declare_namespace('sphinxcontrib')`.\n",
            "Implementing implicit namespace packages (as specified in PEP 420) is preferred to `pkg_resources.declare_namespace`. See https://setuptools.pypa.io/en/latest/references/keywords.html#keyword-namespace-packages\n",
            "  declare_namespace(pkg)\n"
          ]
        },
        {
          "output_type": "stream",
          "name": "stdout",
          "text": [
            "Loading environment lux_ai_s3 failed: No module named 'gymnax'\n"
          ]
        }
      ]
    },
    {
      "cell_type": "markdown",
      "source": [
        ":Опишем поведение агента, всегда играющего \"rock\" - это значение 0"
      ],
      "metadata": {
        "id": "0kuo6IOxiRub"
      }
    },
    {
      "cell_type": "code",
      "source": [
        "class RockAgent:\n",
        "    def __call__(self, observation, configuration):\n",
        "        # 0 - камень\n",
        "        return 0"
      ],
      "metadata": {
        "id": "bqTqV7B92rJ6"
      },
      "execution_count": null,
      "outputs": []
    },
    {
      "cell_type": "markdown",
      "source": [
        ":Опишем поведение агента, всегда играющего \"paper\" - это значение 1"
      ],
      "metadata": {
        "id": "jv15VpsSlXxv"
      }
    },
    {
      "cell_type": "code",
      "source": [
        "class PaperAgent:\n",
        "    def __call__(self, observation, configuration):\n",
        "        # 1 - бумага\n",
        "        return 1"
      ],
      "metadata": {
        "id": "7wyKXPxMjSey"
      },
      "execution_count": null,
      "outputs": []
    },
    {
      "cell_type": "markdown",
      "source": [
        ":Опишем поведение агента, всегда играющего \"scissors\" - это значение 2"
      ],
      "metadata": {
        "id": "_LTl4o7llkek"
      }
    },
    {
      "cell_type": "code",
      "source": [
        "class ScissorsAgent:\n",
        "    def __call__(self, observation, configuration):\n",
        "        # 2 - ножницы\n",
        "        return 2"
      ],
      "metadata": {
        "id": "MG9p5sNTjSzg"
      },
      "execution_count": null,
      "outputs": []
    },
    {
      "cell_type": "markdown",
      "source": [
        "Попробуем теперь использовать информацию о прошлых действиях противника. Опишем агента, который производит то же самое действие, что и оппонент на прошлом ходу"
      ],
      "metadata": {
        "id": "et1J5hUGigeh"
      }
    },
    {
      "cell_type": "code",
      "source": [
        "class CopyAgent:\n",
        "    def __call__(self, observation, configuration):\n",
        "        # если это не первый ход\n",
        "        if observation.step > 0:\n",
        "            # то ходим, как ходил соперник в прошлый ход\n",
        "            return observation.lastOpponentAction\n",
        "        # иначе это первый ход\n",
        "        else:\n",
        "            # возвращаем рандомное значение из доступных вариантов\n",
        "            return random.randrange(0, configuration.signs)"
      ],
      "metadata": {
        "id": "7l6Ttw6qi0jk"
      },
      "execution_count": null,
      "outputs": []
    },
    {
      "cell_type": "markdown",
      "source": [
        "Добавляем агента, реагирующего на последний ход соперника. Данный агент выбирает ход, с которым он бы победил в предыдущем раунде."
      ],
      "metadata": {
        "id": "UEFCxup8mQod"
      }
    },
    {
      "cell_type": "code",
      "source": [
        "class ReactionaryAgent:\n",
        "    def __call__(self, observation, configuration):\n",
        "        # если это первый ход\n",
        "        if observation.step == 0:\n",
        "            # возвращаем рандомное значение из доступных вариантов\n",
        "            return random.randrange(0, configuration.signs)\n",
        "        # берем предыдущий ход соперника и ходим, чтобы победить его\n",
        "        return (observation.lastOpponentAction + 1) % configuration.signs"
      ],
      "metadata": {
        "id": "3ldWio_GmQVG"
      },
      "execution_count": null,
      "outputs": []
    },
    {
      "cell_type": "markdown",
      "source": [
        "Добавляем агента, реагирующего на последний ход соперника. Данный агент выбирает ход, с которым он бы победил в игре против предыдущего агента(reactionary_agent)\n"
      ],
      "metadata": {
        "id": "LrUFaXTNmYkQ"
      }
    },
    {
      "cell_type": "code",
      "source": [
        "class ContrReactionaryAgent:\n",
        "    # инициализируем агента\n",
        "    def __init__(self):\n",
        "        # инициализируем переменную, в которой будем хранить свой последний ход\n",
        "        self.last_step = -1\n",
        "    def __call__(self, observation, configuration):\n",
        "        # если это первый ход\n",
        "        if self.last_step < 0:\n",
        "            # записываем в переменную последнего хода 0\n",
        "            self.last_step = 0\n",
        "        # иначе\n",
        "        else:\n",
        "            # записываем в переменную последнего хода значение на 2 больше,\n",
        "            # чем последний ход соперника\n",
        "            self.last_step = (self.last_step + 2) % configuration.signs\n",
        "        # возвращаем получившееся значение\n",
        "        return self.last_step"
      ],
      "metadata": {
        "id": "QFmTVtqamYV0"
      },
      "execution_count": null,
      "outputs": []
    },
    {
      "cell_type": "markdown",
      "source": [
        "Добавляем монотонного агента, который ходит по порядку меняя ход на следующий (0-1-2-0-1-2-...)."
      ],
      "metadata": {
        "id": "4CYj7uquuGS5"
      }
    },
    {
      "cell_type": "code",
      "source": [
        "class MonotonousAgent:\n",
        "    def __call__(self, observation, configuration):\n",
        "        # если это первый ход\n",
        "        if observation.step == 0:\n",
        "            # возвращаем рандомное значение из доступных вариантов\n",
        "            return random.randrange(0, configuration.signs)\n",
        "        # иначе берем остаток от деления номера текущего эпизода на\n",
        "        # количество возможных вариантов\n",
        "        return observation.step % configuration.signs"
      ],
      "metadata": {
        "id": "SCZjvj_huG0T"
      },
      "execution_count": null,
      "outputs": []
    },
    {
      "cell_type": "markdown",
      "source": [
        "Добавляем статистического агента, который подсчитывает самый частый ход соперника и соответственно реагирует."
      ],
      "metadata": {
        "id": "Iz82ptAkuPRN"
      }
    },
    {
      "cell_type": "code",
      "source": [
        "class StatisticalAgent:\n",
        "    def __init__(self):\n",
        "        # инициализируем переменную для хранения статистики\n",
        "        self.action_histogram = {}\n",
        "\n",
        "    def __call__(self, observation, configuration):\n",
        "        # если это первый ход\n",
        "        if observation.step == 0:\n",
        "            # сбрасываем статистику\n",
        "            self.action_histogram = {}\n",
        "            # возвращаем рандомное значение из доступных вариантов\n",
        "            return random.randrange(0, configuration.signs)\n",
        "        # сохраняем в переменную последний ход соперника\n",
        "        action = observation.lastOpponentAction\n",
        "        # если такого ключа еще нет в справочнике\n",
        "        if action not in self.action_histogram:\n",
        "            # добавляем в справочник со значением 0\n",
        "            self.action_histogram[action] = 0\n",
        "        # делаем инкремент счетчика для такого хода соперника\n",
        "        self.action_histogram[action] += 1\n",
        "        # определяем статистически самый частый ход соперника\n",
        "        # инициализируем переменную для хранения хода с максимальным счетчиком\n",
        "        mode_action = None\n",
        "        # инициализируем переменную для хранения максимального значения счетчика\n",
        "        mode_action_count = None\n",
        "        # для каждой пары ключ-значение в справочнике статистики\n",
        "        for k, v in self.action_histogram.items():\n",
        "            # если значение в справочнике для этого ключа не установлено\n",
        "            # или значение итератора больше значения в справочнике\n",
        "            if mode_action_count is None or v > mode_action_count:\n",
        "                # сохраняем текущий ключ в переменную максимума\n",
        "                mode_action = k\n",
        "                # сохраняем текущее значение в переменную максимума\n",
        "                mode_action_count = v\n",
        "                # переходим к следующей итерации\n",
        "                continue\n",
        "        # ходим так, чтобы победить самый частый ход соперника\n",
        "        return (mode_action + 1) % configuration.signs"
      ],
      "metadata": {
        "id": "qkJ7eLxzuPEe"
      },
      "execution_count": null,
      "outputs": []
    },
    {
      "cell_type": "markdown",
      "source": [
        ":Добавляем агента, который ходит всегда случайно."
      ],
      "metadata": {
        "id": "MUUMuZwIuW2w"
      }
    },
    {
      "cell_type": "code",
      "source": [
        "class RandomChoiceAgent:\n",
        "    def __call__(self, observation, configuration):\n",
        "        # возвращаем рандомное значение из доступных вариантов\n",
        "        return random.randrange(0, configuration.signs)"
      ],
      "metadata": {
        "id": "LPpeiXs9uZdL"
      },
      "execution_count": null,
      "outputs": []
    },
    {
      "cell_type": "markdown",
      "source": [
        "Добавляем агента, который ходит монотонно, но через один шаг (0-2-1-0-2-1...)"
      ],
      "metadata": {
        "id": "jLcWJW0CuZ7G"
      }
    },
    {
      "cell_type": "code",
      "source": [
        "class MonotonousStepAgent:\n",
        "    def __init__(self):\n",
        "        # инициализируем поле для хранения последнего хода\n",
        "        self.last_step = -1\n",
        "    def __call__(self, observation, configuration):\n",
        "        # если это первый ход\n",
        "        if self.last_step < 0:\n",
        "            # возвращаем рандомное значение из доступных вариантов\n",
        "            self.last_step = random.randrange(0, configuration.signs)\n",
        "        # прибавляем 2 к своему последнему ходу\n",
        "        return (self.last_step + 2) % configuration.signs"
      ],
      "metadata": {
        "id": "nnEXkLk5uZHC"
      },
      "execution_count": null,
      "outputs": []
    },
    {
      "cell_type": "markdown",
      "source": [
        "Добавляем агента, который ходит монотонно, но повторяет по 2 раза (0-0-1-1-2-2-0...)\n"
      ],
      "metadata": {
        "id": "gNDZcqZ9ug7f"
      }
    },
    {
      "cell_type": "code",
      "source": [
        "class MonotonousRepeatAgent:\n",
        "    def __init__(self):\n",
        "        # инициализируем поле для хранения последнего хода\n",
        "        self.last_step = -1\n",
        "        # инициализируем поле для хранения  количества повторов\n",
        "        self.repeats = 0\n",
        "    def __call__(self, observation, configuration):\n",
        "        # если это первый ход\n",
        "        if self.last_step < 0:\n",
        "            # возвращаем рандомное значение из доступных вариантов\n",
        "            self.last_step = random.randrange(0, configuration.signs)\n",
        "        # если повтора еще не было\n",
        "        if self.repeats == 0:\n",
        "            # инкрементируем количество повторов\n",
        "            self.repeats += 1\n",
        "        # если уже повторяли\n",
        "        else:\n",
        "            # сбрасываем счетчик повторов\n",
        "            self.repeats = 0\n",
        "            # инкрементируем значение последнего шага\n",
        "            self.last_step = (self.last_step + 1) % configuration.signs\n",
        "        # возвращаем значение поля, хранящего последний шаг\n",
        "        return self.last_step"
      ],
      "metadata": {
        "id": "Eyvq4kXiugsC"
      },
      "execution_count": null,
      "outputs": []
    },
    {
      "cell_type": "markdown",
      "source": [
        "Добавляем агента, который 1/3 предусмотренных эпизодов ходит 0, затем еще 1/3 ходит 1, потом оставшуюся часть ходит 2\n"
      ],
      "metadata": {
        "id": "zOzR5-YLulHQ"
      }
    },
    {
      "cell_type": "code",
      "source": [
        "class PartAgent:\n",
        "    def __init__(self):\n",
        "        # инициализируем поле для хранения последнего хода\n",
        "        self.last_step = 0\n",
        "        # инициализируем поле для хранения  количества повторов\n",
        "        self.repeats = 0\n",
        "\n",
        "    def __call__(self, observation, configuration):\n",
        "        # если количество повторов меньше 1/3 от запланированного количества эпизодов\n",
        "        if self.repeats < (configuration.get('episodeSteps') / 3):\n",
        "            # инкрементируем счетчик повторов\n",
        "            self.repeats += 1\n",
        "        # иначе переход к следующему значению\n",
        "        else:\n",
        "            # сбрасываем счетчик повторов\n",
        "            self.repeats = 0\n",
        "            # инкрементируем значение последнего шага\n",
        "            self.last_step = (self.last_step + 1) % configuration.signs\n",
        "        # возвращаем значение поля, хранящего последний шаг\n",
        "        return self.last_step"
      ],
      "metadata": {
        "id": "eRuepGk8ulti"
      },
      "execution_count": null,
      "outputs": []
    },
    {
      "cell_type": "markdown",
      "source": [
        "Добавляем агента, который 1/3 предусмотренных эпизодов, ходит как ReactionaryAgent, а затем как StatisticalAgent\n"
      ],
      "metadata": {
        "id": "DN6s1NpPuqys"
      }
    },
    {
      "cell_type": "code",
      "source": [
        "class ComboAgent:\n",
        "    def __init__(self):\n",
        "        # инициализируем поле для хранения последнего хода\n",
        "        self.last_step = 0\n",
        "        # инициализируем поле для хранения  количества повторов\n",
        "        self.repeats = 0\n",
        "        # инициализируем переменную для хранения статистики\n",
        "        self.action_histogram = {}\n",
        "    def __call__(self, observation, configuration):\n",
        "        # если это первый ход\n",
        "        if observation.step == 0:\n",
        "            # сбрасываем статистику\n",
        "            self.action_histogram = {}\n",
        "            # возвращаем рандомное значение из доступных вариантов\n",
        "            return random.randrange(0, configuration.signs)\n",
        "        # сохраняем в переменную последний ход соперника\n",
        "        action = observation.lastOpponentAction\n",
        "        # если количество повторов меньше 1/3 от запланированного количества эпизодов\n",
        "        if self.repeats < (configuration.get('episodeSteps') / 3):\n",
        "            # инкрементируем счетчик повторов\n",
        "            self.repeats += 1\n",
        "            # берем предыдущий ход соперника и ходим, чтобы победить его\n",
        "            return (action + 1) % configuration.signs\n",
        "        # иначе после прохождения 1/3 эпизодов\n",
        "        else:\n",
        "            # если такого ключа еще нет в справочнике\n",
        "            if action not in self.action_histogram:\n",
        "                # добавляем в справочник со значением 0\n",
        "                self.action_histogram[action] = 0\n",
        "            # делаем инкремент счетчика для такого хода соперника\n",
        "            self.action_histogram[action] += 1\n",
        "            # определяем статистически самый частый ход соперника\n",
        "            # инициализируем переменную для хранения хода с максимальным счетчиком\n",
        "            mode_action = None\n",
        "            # инициализируем переменную для хранения максимального значения счетчика\n",
        "            mode_action_count = None\n",
        "            # для каждой пары ключ-значение в справочнике статистики\n",
        "            for k, v in self.action_histogram.items():\n",
        "                # если значение в справочнике для этого ключа не установлено\n",
        "                # или значение итератора больше значения в справочнике\n",
        "                if mode_action_count is None or v > mode_action_count:\n",
        "                    # сохраняем текущий ключ в переменную максимума\n",
        "                    mode_action = k\n",
        "                    # сохраняем текущее значение в переменную максимума\n",
        "                    mode_action_count = v\n",
        "                    # переходим к следующей итерации\n",
        "                    continue\n",
        "            # ходим так, чтобы победить самый частый ход соперника\n",
        "            return (mode_action + 1) % configuration.signs\n"
      ],
      "metadata": {
        "id": "ui78QUBLurTT"
      },
      "execution_count": null,
      "outputs": []
    },
    {
      "cell_type": "markdown",
      "source": [
        "Собираем словарь агентов"
      ],
      "metadata": {
        "id": "CxZ4PwtluvZa"
      }
    },
    {
      "cell_type": "code",
      "source": [
        "agents = {'rock': RockAgent(),\n",
        "    'paper': PaperAgent(),\n",
        "    'scissors': ScissorsAgent(),\n",
        "    'copy_opponent': CopyAgent(),\n",
        "    'reactionary': ReactionaryAgent(),\n",
        "    'contr_reactionary': ContrReactionaryAgent(),\n",
        "    'monotonous': MonotonousAgent(),\n",
        "    'statistical': StatisticalAgent(),\n",
        "    'random_choice': RandomChoiceAgent(),\n",
        "    'monotonous_step': MonotonousStepAgent(),\n",
        "    'repeat': MonotonousRepeatAgent(),\n",
        "    'part': PartAgent(),\n",
        "    'combo': ComboAgent()}"
      ],
      "metadata": {
        "id": "fxJYKHBVuv3X"
      },
      "execution_count": null,
      "outputs": []
    },
    {
      "cell_type": "markdown",
      "source": [
        "Проводим Турнир в 2-х разрезах:\n",
        "\n",
        "За победу в матче присуждаем 2 очка, за ничью - 1\n",
        "Считаем сумму по выигранным/проигранным эпизодам - за победу в эпизоде +1, за поражение -1"
      ],
      "metadata": {
        "id": "vKE8dVzju2bP"
      }
    },
    {
      "cell_type": "code",
      "source": [
        "class Tournament:\n",
        "    def __init__(self, agents):\n",
        "        # инициализируем атрибут со справочником агентов\n",
        "        self.agents = agents\n",
        "        # инициализируем справочник с результатами\n",
        "        self.results = {}\n",
        "        # для каждого ключа в справочнике агентов\n",
        "        for agent in agents:\n",
        "            # подготавливаем результат с 0 значением\n",
        "            self.results[agent] = {'episodes_sum': 0, 'points': 0}\n",
        "    # приватный метод для сохранения результатов раунда\n",
        "    def __save_result(self, round_result, left, right):\n",
        "        # сохраняем в переменную количество побед в ранде левого агента\n",
        "        left_wins = round_result[0][0]\n",
        "        # сохраняем в переменную количество побед в ранде левого агента\n",
        "        right_wins = round_result[0][1]\n",
        "        # добавляем победы левого агента в результаты\n",
        "        self.results[left]['episodes_sum'] += left_wins\n",
        "        # добавляем победы правого агента в результаты\n",
        "        self.results[right]['episodes_sum'] += right_wins\n",
        "        # если у левого агента больше побед\n",
        "        if left_wins > right_wins:\n",
        "            # добавляем в результаты 2 очка левому агенту\n",
        "            self.results[left]['points'] += 2\n",
        "        # если у правого агента больше побед\n",
        "        elif left_wins < right_wins:\n",
        "            # добавляем в результаты 2 очка правому агенту\n",
        "            self.results[right]['points'] += 2\n",
        "        # иначе ничья\n",
        "        else:\n",
        "            # добавляем в результаты 1 очко левому агенту\n",
        "            self.results[left]['points'] += 1\n",
        "            # добавляем в результаты 1 очко правому агенту\n",
        "            self.results[right]['points'] += 1\n",
        "    def start(self, episodes):\n",
        "        # собираем список имен агентов\n",
        "        names = list(self.agents.keys())\n",
        "        # проводим раунды для всех возможных пар агентов\n",
        "        # для числа i от 0 до количества агентов уменьшенного на 1\n",
        "        # i будет представлять индекс левого агента в раунде\n",
        "        for i in range(len(names) - 1):\n",
        "            # для числа j от 0 до количества агентов уменьшенного на 1\n",
        "            for j in range(len(names) - 1):\n",
        "                # определяем индекс правого агента\n",
        "                index = j + 1 + i\n",
        "                # если вычисленный индекс превысил макимальный индекс\n",
        "                if index > (len(names) - 1):\n",
        "                    # выходим из цикла\n",
        "                    break\n",
        "                # сохраняем в переменную имя левого агента\n",
        "                left = names[i]\n",
        "                # сохраняем в переменную имя правого агента\n",
        "                right = names[index]\n",
        "                # проводим раунд и сохраняем результат в переменную\n",
        "                round_result = evaluate(\"rps\", #environment to use - no need to change\n",
        "                    [agents[left], agents[right]], #agents to evaluate\n",
        "                    configuration={\"episodeSteps\": episodes}, #episodes\n",
        "                    debug=True)\n",
        "                # сохраняем результат раунда\n",
        "                self.__save_result(round_result, left, right)\n",
        "    def print_result(self):\n",
        "        # сортируем результат по полученным очкам\n",
        "        sorted_table_p = dict(\n",
        "            sorted(self.results.items(),\n",
        "                key=lambda x: (x[1].get('points'), x[1].get('episodes_sum')),\n",
        "                reverse=True))\n",
        "        # собираем список имен агентов в отсортированном порядке\n",
        "        names_p = [name for name in sorted_table_p]\n",
        "        # собираем список очков в отсортированном порядке\n",
        "        points = [x[1].get('points') for x in sorted_table_p.items()]\n",
        "        # создаем и отображаем график\n",
        "        dfp = pd.DataFrame({\"agent\": names_p, \"point\": points})\n",
        "        plt.figure(figsize=(25, 5))\n",
        "        splot = sns.barplot(x=\"agent\",y=\"point\",data=dfp)\n",
        "        plt.xlabel(\"Агент\", size=16)\n",
        "        plt.ylabel(\"Очки\", size=16)\n",
        "        plt.bar_label(splot.containers[0],size=16,label_type='center')\n",
        "        plt.suptitle('По очкам')\n",
        "        plt.show()\n",
        "        # сортируем результат по сумме выигранных эпизодов\n",
        "        sorted_table_e = dict(\n",
        "            sorted(self.results.items(),\n",
        "                key=lambda x: (x[1].get('episodes_sum'), x[1].get('points')),\n",
        "                reverse=True) )\n",
        "        # собираем список имен агентов в отсортированном порядке\n",
        "        names_e = [name for name in sorted_table_e]\n",
        "        # собираем список сумм выигранных эпизодов в отсортированном порядке\n",
        "        ep_sum = [x[1].get('episodes_sum') for x in sorted_table_e.items()]\n",
        "        # создаем и отображаем график\n",
        "        dfe = pd.DataFrame({\"agent\": names_e, \"win\": ep_sum})\n",
        "        plt.figure(figsize=(25, 5))\n",
        "        splot=sns.barplot(x=\"agent\",y=\"win\",data=dfe)\n",
        "        plt.xlabel(\"Агент\", size=16)\n",
        "        plt.ylabel(\"Сумма по эпизодам\", size=16)\n",
        "        plt.bar_label(splot.containers[0],size=16,label_type='center')\n",
        "        plt.suptitle('По эпизодам')\n",
        "        plt.show()\n",
        "# создаем турнир, передав подготовленный справочник агентов\n",
        "tournament = Tournament(agents)\n",
        "# запускаем турнир, передав количество эпизодов в раунде\n",
        "tournament.start(100)\n",
        "# отображаем результат турнира\n",
        "tournament.print_result()"
      ],
      "metadata": {
        "colab": {
          "base_uri": "https://localhost:8080/",
          "height": 1000
        },
        "id": "G90thrdKu2pr",
        "outputId": "f6361986-7e52-4a34-d95d-afc800f820f6"
      },
      "execution_count": null,
      "outputs": [
        {
          "output_type": "display_data",
          "data": {
            "text/plain": [
              "<Figure size 2500x500 with 1 Axes>"
            ],
            "image/png": "[encoded data removed]"
          },
          "metadata": {}
        },
        {
          "output_type": "display_data",
          "data": {
            "text/plain": [
              "<Figure size 2500x500 with 1 Axes>"
            ],
            "image/png": "[encoded data removed]"
          },
          "metadata": {}
        }
      ]
    }
  ]
}