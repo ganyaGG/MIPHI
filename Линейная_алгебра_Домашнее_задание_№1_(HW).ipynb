{
  "cells": [
    {
      "cell_type": "markdown",
      "metadata": {
        "id": "view-in-github",
        "colab_type": "text"
      },
      "source": [
        "<a href=\"https://colab.research.google.com/github/ganyaGG/MIPHI/blob/main/%D0%9B%D0%B8%D0%BD%D0%B5%D0%B9%D0%BD%D0%B0%D1%8F_%D0%B0%D0%BB%D0%B3%D0%B5%D0%B1%D1%80%D0%B0_%D0%94%D0%BE%D0%BC%D0%B0%D1%88%D0%BD%D0%B5%D0%B5_%D0%B7%D0%B0%D0%B4%D0%B0%D0%BD%D0%B8%D0%B5_%E2%84%961_(HW).ipynb\" target=\"_parent\"><img src=\"https://colab.research.google.com/assets/colab-badge.svg\" alt=\"Open In Colab\"/></a>"
      ]
    },
    {
      "cell_type": "markdown",
      "id": "b054bd88",
      "metadata": {
        "id": "b054bd88"
      },
      "source": [
        "# <center> Линейная алгебра в контексте линейных методов. Практика.\n",
        "\n",
        "## <center> Прогнозирование выработки газа на скважинах."
      ]
    },
    {
      "cell_type": "markdown",
      "id": "325bc80b",
      "metadata": {
        "id": "325bc80b"
      },
      "source": [
        "## Постановка задачи"
      ]
    },
    {
      "cell_type": "markdown",
      "id": "8247bd54",
      "metadata": {
        "id": "8247bd54"
      },
      "source": [
        "У Василия, основателя компании «Газ-Таз-Ваз-Нефть», дела идут в гору: у него уже функционирует 200 скважин для добычи газа. В этом году он открывает 30 новых скважин. Однако в целях оптимизации расходов и повышения дохода Василию необходимо оценить, сколько денег будет приносить ему каждая из скважин, а также понять, какие факторы (параметры скважин) потенциально сильнее всего повлияют на объём добычи газа. Для этого Василий решил нанять вас как специалиста в области Data Science.\n",
        "\n",
        "Василий представляет вам набор данных о добыче газа на своих скважинах. Файл с данными вы можете скачать на платформе.\n",
        "\n",
        "**Признаки в данных:**\n",
        "\n",
        "* Well — идентификатор скважины;\n",
        "* Por — пористость скважины (%);\n",
        "* Perm — проницаемость скважины;\n",
        "* AI — акустический импеданс ($кг/м^2 * 10^6$);\n",
        "* Brittle — коэффициент хрупкости скважины (%);\n",
        "* TOC — общий органический углерод (%);\n",
        "* VR — коэффициент отражения витринита (%);\n",
        "* Prod — добыча газа в сутки (млн. кубических футов).\n",
        "\n",
        "**Ваша задача** — построить регрессионную модель, которая прогнозирует выработку газа на скважине (целевой признак — Prod) на основе остальных характеристик скважины, и проинтерпретировать результаты вашей модели.\n",
        "\n",
        "Разделим задачу на две части:\n",
        "* В первой мы построим простейшую модель линейной регрессии, проанализируем результаты её работы и выберем наиболее значимые факторы для прогнозирования.\n",
        "* Во второй мы займёмся построением модели полиномиальной регрессии с регуляризацией и посмотрим на итоговые результаты моделирования.\n"
      ]
    },
    {
      "cell_type": "markdown",
      "id": "d67d069e",
      "metadata": {
        "id": "d67d069e"
      },
      "source": [
        "Импортируем необходимые библиотеки:"
      ]
    },
    {
      "cell_type": "code",
      "id": "83a555bc-8dff-4b7e-bba1-cd4f4a9e69b2",
      "metadata": {
        "id": "83a555bc-8dff-4b7e-bba1-cd4f4a9e69b2",
        "ExecuteTime": {
          "end_time": "2024-11-17T16:13:34.843155Z",
          "start_time": "2024-11-17T16:13:34.121241Z"
        }
      },
      "source": [
        "from dis import disco\n",
        "\n",
        "# Импорт библиотек\n",
        "import numpy as np # для работы с массивами\n",
        "import pandas as pd # для работы с DataFrame\n",
        "import seaborn as sns # библиотека для визуализации статистических данных\n",
        "import matplotlib.pyplot as plt # для построения графиков\n",
        "import plotly.figure_factory as ff\n",
        "import plotly.express as px\n",
        "from mpmath.libmp import normalize\n",
        "\n",
        "%matplotlib inline"
      ],
      "outputs": [],
      "execution_count": null
    },
    {
      "cell_type": "markdown",
      "id": "e689ddaf",
      "metadata": {
        "id": "e689ddaf"
      },
      "source": [
        "Прочитаем исходные данные:"
      ]
    },
    {
      "cell_type": "code",
      "id": "b7b5cd9b-703f-4dbc-a6e3-61d583eafcac",
      "metadata": {
        "colab": {
          "base_uri": "https://localhost:8080/",
          "height": 206
        },
        "id": "b7b5cd9b-703f-4dbc-a6e3-61d583eafcac",
        "outputId": "d4e99a48-2a0d-4edd-f86c-617c44bf36d2",
        "ExecuteTime": {
          "end_time": "2024-11-17T16:13:34.941364Z",
          "start_time": "2024-11-17T16:13:34.868166Z"
        }
      },
      "source": [
        "data = pd.read_csv('data/unconv.csv')\n",
        "print(data.shape)\n",
        "data.head()"
      ],
      "outputs": [
        {
          "name": "stdout",
          "output_type": "stream",
          "text": [
            "(200, 8)\n"
          ]
        },
        {
          "data": {
            "text/plain": [
              "   Well    Por  Perm    AI  Brittle   TOC    VR         Prod\n",
              "0     1  12.08  2.92  2.80    81.40  1.16  2.31  4165.196191\n",
              "1     2  12.38  3.53  3.22    46.17  0.89  1.88  3561.146205\n",
              "2     3  14.02  2.59  4.01    72.80  0.89  2.72  4284.348574\n",
              "3     4  17.67  6.75  2.63    39.81  1.08  1.88  5098.680869\n",
              "4     5  17.52  4.57  3.18    10.94  1.51  1.90  3406.132832"
            ],
            "text/html": [
              "<div>\n",
              "<style scoped>\n",
              "    .dataframe tbody tr th:only-of-type {\n",
              "        vertical-align: middle;\n",
              "    }\n",
              "\n",
              "    .dataframe tbody tr th {\n",
              "        vertical-align: top;\n",
              "    }\n",
              "\n",
              "    .dataframe thead th {\n",
              "        text-align: right;\n",
              "    }\n",
              "</style>\n",
              "<table border=\"1\" class=\"dataframe\">\n",
              "  <thead>\n",
              "    <tr style=\"text-align: right;\">\n",
              "      <th></th>\n",
              "      <th>Well</th>\n",
              "      <th>Por</th>\n",
              "      <th>Perm</th>\n",
              "      <th>AI</th>\n",
              "      <th>Brittle</th>\n",
              "      <th>TOC</th>\n",
              "      <th>VR</th>\n",
              "      <th>Prod</th>\n",
              "    </tr>\n",
              "  </thead>\n",
              "  <tbody>\n",
              "    <tr>\n",
              "      <th>0</th>\n",
              "      <td>1</td>\n",
              "      <td>12.08</td>\n",
              "      <td>2.92</td>\n",
              "      <td>2.80</td>\n",
              "      <td>81.40</td>\n",
              "      <td>1.16</td>\n",
              "      <td>2.31</td>\n",
              "      <td>4165.196191</td>\n",
              "    </tr>\n",
              "    <tr>\n",
              "      <th>1</th>\n",
              "      <td>2</td>\n",
              "      <td>12.38</td>\n",
              "      <td>3.53</td>\n",
              "      <td>3.22</td>\n",
              "      <td>46.17</td>\n",
              "      <td>0.89</td>\n",
              "      <td>1.88</td>\n",
              "      <td>3561.146205</td>\n",
              "    </tr>\n",
              "    <tr>\n",
              "      <th>2</th>\n",
              "      <td>3</td>\n",
              "      <td>14.02</td>\n",
              "      <td>2.59</td>\n",
              "      <td>4.01</td>\n",
              "      <td>72.80</td>\n",
              "      <td>0.89</td>\n",
              "      <td>2.72</td>\n",
              "      <td>4284.348574</td>\n",
              "    </tr>\n",
              "    <tr>\n",
              "      <th>3</th>\n",
              "      <td>4</td>\n",
              "      <td>17.67</td>\n",
              "      <td>6.75</td>\n",
              "      <td>2.63</td>\n",
              "      <td>39.81</td>\n",
              "      <td>1.08</td>\n",
              "      <td>1.88</td>\n",
              "      <td>5098.680869</td>\n",
              "    </tr>\n",
              "    <tr>\n",
              "      <th>4</th>\n",
              "      <td>5</td>\n",
              "      <td>17.52</td>\n",
              "      <td>4.57</td>\n",
              "      <td>3.18</td>\n",
              "      <td>10.94</td>\n",
              "      <td>1.51</td>\n",
              "      <td>1.90</td>\n",
              "      <td>3406.132832</td>\n",
              "    </tr>\n",
              "  </tbody>\n",
              "</table>\n",
              "</div>"
            ]
          },
          "execution_count": 114,
          "metadata": {},
          "output_type": "execute_result"
        }
      ],
      "execution_count": null
    },
    {
      "cell_type": "markdown",
      "id": "58639b40",
      "metadata": {
        "id": "58639b40"
      },
      "source": [
        "## Практика: линейная регрессия по методу наименьших квадратов"
      ]
    },
    {
      "cell_type": "markdown",
      "id": "a90535b8",
      "metadata": {
        "id": "a90535b8"
      },
      "source": [
        "Для начала построим простейшую модель линейной регрессии, проанализируем результаты её работы и выберем наиболее значимые факторы для прогнозирования.\n",
        "\n",
        "В первой части вам предстоит выполнить задания 5.0–5.6. Максимальное количество баллов, которое можно получить, — 9."
      ]
    },
    {
      "cell_type": "markdown",
      "id": "4061b706",
      "metadata": {
        "id": "4061b706"
      },
      "source": [
        "### Задание 5.0. (не оценивается)\n",
        "\n",
        "Проведите небольшой разведывательный анализ, чтобы поближе познакомиться с исходными данными. Постройте несколько визуализаций, которые помогут вам понять, как устроены исходные признаки, а также смогут продемонстрировать взаимосвязь факторов.\n",
        "\n",
        "Сделайте промежуточные выводы из проведённого разведывательного анализа."
      ]
    },
    {
      "cell_type": "code",
      "id": "daf1ccc7",
      "metadata": {
        "id": "daf1ccc7",
        "ExecuteTime": {
          "end_time": "2024-11-17T16:13:35.393592Z",
          "start_time": "2024-11-17T16:13:35.046033Z"
        },
        "outputId": "dd183c74-3006-455b-ec87-719efb481b8e"
      },
      "source": [
        "# Ваш код здесь\n",
        "scatterplot = sns.scatterplot(\n",
        "    data=data,\n",
        "    x='Perm',\n",
        "    y='Prod',\n",
        "    s=100\n",
        "\n",
        ")\n",
        "scatterplot.set_title('Зависимость добычи от проницаемости скважины', fontsize=16)\n",
        "scatterplot.set_xlabel('Проницаемость скважины')\n",
        "scatterplot.set_ylabel('Добыча газа в сутки');"
      ],
      "outputs": [
        {
          "data": {
            "text/plain": [
              "<Figure size 640x480 with 1 Axes>"
            ],
            "image/png": "[encoded data removed]"
          },
          "metadata": {},
          "output_type": "display_data"
        }
      ],
      "execution_count": null
    },
    {
      "metadata": {
        "ExecuteTime": {
          "end_time": "2024-11-17T16:13:35.772133Z",
          "start_time": "2024-11-17T16:13:35.434906Z"
        },
        "id": "4d5852f06aa4ccde",
        "outputId": "5ac6b515-e5c9-4302-8e3c-5986da0c8a34"
      },
      "cell_type": "code",
      "source": [
        "# Ваш код здесь\n",
        "scatterplot = sns.scatterplot(\n",
        "    data=data,\n",
        "    x='Por',\n",
        "    y='Prod',\n",
        "    s=100\n",
        "\n",
        ")\n",
        "scatterplot.set_title('Зависимость добычи от пористости скважины', fontsize=16)\n",
        "scatterplot.set_xlabel('Пористость скважины (%)')\n",
        "scatterplot.set_ylabel('Добыча газа в сутки');"
      ],
      "id": "4d5852f06aa4ccde",
      "outputs": [
        {
          "data": {
            "text/plain": [
              "<Figure size 640x480 with 1 Axes>"
            ],
            "image/png": "[encoded data removed]"
          },
          "metadata": {},
          "output_type": "display_data"
        }
      ],
      "execution_count": null
    },
    {
      "metadata": {
        "ExecuteTime": {
          "end_time": "2024-11-17T16:13:36.297636Z",
          "start_time": "2024-11-17T16:13:35.810184Z"
        },
        "id": "5cfa6ec3936e7099",
        "outputId": "e9e23291-458c-4284-aa48-5e6244877bbe"
      },
      "cell_type": "code",
      "source": [
        "scatterplot = sns.scatterplot(\n",
        "    data=data,\n",
        "    x='AI',\n",
        "    y='Prod',\n",
        "    s=100\n",
        "\n",
        ")\n",
        "scatterplot.set_title('Зависимость добычи от акустического импеданса', fontsize=16)\n",
        "scatterplot.set_xlabel('Акустический импеданс')\n",
        "scatterplot.set_ylabel('Добыча газа в сутки');"
      ],
      "id": "5cfa6ec3936e7099",
      "outputs": [
        {
          "data": {
            "text/plain": [
              "<Figure size 640x480 with 1 Axes>"
            ],
            "image/png": "[encoded data removed]"
          },
          "metadata": {},
          "output_type": "display_data"
        }
      ],
      "execution_count": null
    },
    {
      "metadata": {
        "id": "7ae6fa11be39e18d"
      },
      "cell_type": "markdown",
      "source": [
        "На графиках видна прямая зависимость добычи от пористости и проницаемости скважины и отсутствие зависимости от акустического импеданса."
      ],
      "id": "7ae6fa11be39e18d"
    },
    {
      "cell_type": "markdown",
      "id": "d11cb44f",
      "metadata": {
        "id": "d11cb44f"
      },
      "source": [
        "### Задание 5.1. (2 балла)\n",
        "\n",
        "Постройте корреляционную матрицу факторов, включив в неё целевой признак.\n",
        "\n",
        "Для наглядности визуализируйте полученную матрицу с помощью тепловой карты.\n",
        "\n",
        "**Примечание.** *Для визуализации вы можете использовать любую из знакомых вам библиотек.*\n",
        "\n",
        "На основе построенной корреляционной матрицы ответьте на следующий вопрос:\n",
        "\n",
        "* Какие факторы сильнее всего коррелируют с целевой переменной?\n",
        "\n",
        "Вычислите ранг и определитель полученной матрицы корреляций и приведите развёрнутые ответы на следующие вопросы:\n",
        "* Является ли корреляционная матрица плохо обусловенной (близок ли её опредитель к нулю)?\n",
        "* Что вы можете сказать о наличии коллинераности/мультиколлинеарности в данных?\n",
        "* Применима ли в данном случае модель классической линейной регрессии по методу наименьших квадратов и почему?"
      ]
    },
    {
      "cell_type": "markdown",
      "source": [
        "**Критерии оценивания:**\n",
        "- Задание выполнено верно, учтены все условия (**2 балла**):\n",
        "    * приведён код для расчёта корреляционной матрицы;\n",
        "    * приведён код для визуализации корреляционной матрицы в виде тепловой карты;\n",
        "    * рассчитаны ранг и определитель корреляционной матрицы;\n",
        "    * предоставлены обоснованные ответы на все поставленные вопросы.\n",
        "\n",
        "- Задание выполнено верно, но не учтено одно условие (**1 балл**).\n",
        "- Задание выполнено неверно, не учтено несколько условий (**0 баллов**)."
      ],
      "metadata": {
        "id": "57OjUl5e2oiL"
      },
      "id": "57OjUl5e2oiL"
    },
    {
      "cell_type": "code",
      "id": "af00a5a0",
      "metadata": {
        "id": "af00a5a0",
        "ExecuteTime": {
          "end_time": "2024-11-17T16:13:36.472097Z",
          "start_time": "2024-11-17T16:13:36.363270Z"
        },
        "outputId": "7a05f12b-45b0-4dbb-baec-d49f387faa59"
      },
      "source": [
        "# Ваш код здесь\n",
        "corr_matrix = data.corr()\n",
        "\n",
        "# Считаем определитель\n",
        "det = np.linalg.det(corr_matrix)\n",
        "# считаем ранг\n",
        "rank = np.linalg.matrix_rank(corr_matrix)\n",
        "\n",
        "print(f'Ранг матрицы корреляций = {rank}, а определитель = {det}')\n",
        "\n",
        "fig = px.imshow(corr_matrix, color_continuous_scale='Viridis')\n",
        "fig.show()"
      ],
      "outputs": [
        {
          "name": "stdout",
          "output_type": "stream",
          "text": [
            "Ранг матрицы корреляций = 8, а определитель = 0.0007299388072652082\n"
          ]
        },
        {
          "data": {
            "application/vnd.plotly.v1+json": {
              "data": [
                {
                  "coloraxis": "coloraxis",
                  "name": "0",
                  "x": [
                    "Well",
                    "Por",
                    "Perm",
                    "AI",
                    "Brittle",
                    "TOC",
                    "VR",
                    "Prod"
                  ],
                  "y": [
                    "Well",
                    "Por",
                    "Perm",
                    "AI",
                    "Brittle",
                    "TOC",
                    "VR",
                    "Prod"
                  ],
                  "z": [
                    [
                      1,
                      0.06892650716930902,
                      0.07792780891929288,
                      0.0414826184736394,
                      -0.07925236389007449,
                      0.02262431043795967,
                      -0.007278678268113182,
                      0.02681677681635362
                    ],
                    [
                      0.06892650716930902,
                      1,
                      0.7605459242862604,
                      -0.46154937413830893,
                      -0.21857029663949573,
                      0.7118306758116919,
                      0.11185977924568775,
                      0.8619095390498694
                    ],
                    [
                      0.07792780891929288,
                      0.7605459242862604,
                      1,
                      -0.23963581449371366,
                      -0.12401730308963654,
                      0.47174631684108176,
                      0.05102320050943358,
                      0.7274261409379983
                    ],
                    [
                      0.0414826184736394,
                      -0.46154937413830893,
                      -0.23963581449371366,
                      1,
                      0.127599431810448,
                      -0.5318635967128338,
                      0.49914264873911235,
                      -0.39083476681722223
                    ],
                    [
                      -0.07925236389007449,
                      -0.21857029663949573,
                      -0.12401730308963654,
                      0.127599431810448,
                      1,
                      -0.2142817704313906,
                      0.31792865708154255,
                      0.23715533470634578
                    ],
                    [
                      0.02262431043795967,
                      0.7118306758116919,
                      0.47174631684108176,
                      -0.5318635967128338,
                      -0.2142817704313906,
                      1,
                      0.299482866262007,
                      0.6544451995719837
                    ],
                    [
                      -0.007278678268113182,
                      0.11185977924568775,
                      0.05102320050943358,
                      0.49914264873911235,
                      0.31792865708154255,
                      0.299482866262007,
                      1,
                      0.3231815474813121
                    ],
                    [
                      0.02681677681635362,
                      0.8619095390498694,
                      0.7274261409379983,
                      -0.39083476681722223,
                      0.23715533470634578,
                      0.6544451995719837,
                      0.3231815474813121,
                      1
                    ]
                  ],
                  "type": "heatmap",
                  "xaxis": "x",
                  "yaxis": "y",
                  "hovertemplate": "x: %{x}<br>y: %{y}<br>color: %{z}<extra></extra>"
                }
              ],
              "layout": {
                "template": {
                  "data": {
                    "histogram2dcontour": [
                      {
                        "type": "histogram2dcontour",
                        "colorbar": {
                          "outlinewidth": 0,
                          "ticks": ""
                        },
                        "colorscale": [
                          [
                            0,
                            "#0d0887"
                          ],
                          [
                            0.1111111111111111,
                            "#46039f"
                          ],
                          [
                            0.2222222222222222,
                            "#7201a8"
                          ],
                          [
                            0.3333333333333333,
                            "#9c179e"
                          ],
                          [
                            0.4444444444444444,
                            "#bd3786"
                          ],
                          [
                            0.5555555555555556,
                            "#d8576b"
                          ],
                          [
                            0.6666666666666666,
                            "#ed7953"
                          ],
                          [
                            0.7777777777777778,
                            "#fb9f3a"
                          ],
                          [
                            0.8888888888888888,
                            "#fdca26"
                          ],
                          [
                            1,
                            "#f0f921"
                          ]
                        ]
                      }
                    ],
                    "choropleth": [
                      {
                        "type": "choropleth",
                        "colorbar": {
                          "outlinewidth": 0,
                          "ticks": ""
                        }
                      }
                    ],
                    "histogram2d": [
                      {
                        "type": "histogram2d",
                        "colorbar": {
                          "outlinewidth": 0,
                          "ticks": ""
                        },
                        "colorscale": [
                          [
                            0,
                            "#0d0887"
                          ],
                          [
                            0.1111111111111111,
                            "#46039f"
                          ],
                          [
                            0.2222222222222222,
                            "#7201a8"
                          ],
                          [
                            0.3333333333333333,
                            "#9c179e"
                          ],
                          [
                            0.4444444444444444,
                            "#bd3786"
                          ],
                          [
                            0.5555555555555556,
                            "#d8576b"
                          ],
                          [
                            0.6666666666666666,
                            "#ed7953"
                          ],
                          [
                            0.7777777777777778,
                            "#fb9f3a"
                          ],
                          [
                            0.8888888888888888,
                            "#fdca26"
                          ],
                          [
                            1,
                            "#f0f921"
                          ]
                        ]
                      }
                    ],
                    "heatmap": [
                      {
                        "type": "heatmap",
                        "colorbar": {
                          "outlinewidth": 0,
                          "ticks": ""
                        },
                        "colorscale": [
                          [
                            0,
                            "#0d0887"
                          ],
                          [
                            0.1111111111111111,
                            "#46039f"
                          ],
                          [
                            0.2222222222222222,
                            "#7201a8"
                          ],
                          [
                            0.3333333333333333,
                            "#9c179e"
                          ],
                          [
                            0.4444444444444444,
                            "#bd3786"
                          ],
                          [
                            0.5555555555555556,
                            "#d8576b"
                          ],
                          [
                            0.6666666666666666,
                            "#ed7953"
                          ],
                          [
                            0.7777777777777778,
                            "#fb9f3a"
                          ],
                          [
                            0.8888888888888888,
                            "#fdca26"
                          ],
                          [
                            1,
                            "#f0f921"
                          ]
                        ]
                      }
                    ],
                    "heatmapgl": [
                      {
                        "type": "heatmapgl",
                        "colorbar": {
                          "outlinewidth": 0,
                          "ticks": ""
                        },
                        "colorscale": [
                          [
                            0,
                            "#0d0887"
                          ],
                          [
                            0.1111111111111111,
                            "#46039f"
                          ],
                          [
                            0.2222222222222222,
                            "#7201a8"
                          ],
                          [
                            0.3333333333333333,
                            "#9c179e"
                          ],
                          [
                            0.4444444444444444,
                            "#bd3786"
                          ],
                          [
                            0.5555555555555556,
                            "#d8576b"
                          ],
                          [
                            0.6666666666666666,
                            "#ed7953"
                          ],
                          [
                            0.7777777777777778,
                            "#fb9f3a"
                          ],
                          [
                            0.8888888888888888,
                            "#fdca26"
                          ],
                          [
                            1,
                            "#f0f921"
                          ]
                        ]
                      }
                    ],
                    "contourcarpet": [
                      {
                        "type": "contourcarpet",
                        "colorbar": {
                          "outlinewidth": 0,
                          "ticks": ""
                        }
                      }
                    ],
                    "contour": [
                      {
                        "type": "contour",
                        "colorbar": {
                          "outlinewidth": 0,
                          "ticks": ""
                        },
                        "colorscale": [
                          [
                            0,
                            "#0d0887"
                          ],
                          [
                            0.1111111111111111,
                            "#46039f"
                          ],
                          [
                            0.2222222222222222,
                            "#7201a8"
                          ],
                          [
                            0.3333333333333333,
                            "#9c179e"
                          ],
                          [
                            0.4444444444444444,
                            "#bd3786"
                          ],
                          [
                            0.5555555555555556,
                            "#d8576b"
                          ],
                          [
                            0.6666666666666666,
                            "#ed7953"
                          ],
                          [
                            0.7777777777777778,
                            "#fb9f3a"
                          ],
                          [
                            0.8888888888888888,
                            "#fdca26"
                          ],
                          [
                            1,
                            "#f0f921"
                          ]
                        ]
                      }
                    ],
                    "surface": [
                      {
                        "type": "surface",
                        "colorbar": {
                          "outlinewidth": 0,
                          "ticks": ""
                        },
                        "colorscale": [
                          [
                            0,
                            "#0d0887"
                          ],
                          [
                            0.1111111111111111,
                            "#46039f"
                          ],
                          [
                            0.2222222222222222,
                            "#7201a8"
                          ],
                          [
                            0.3333333333333333,
                            "#9c179e"
                          ],
                          [
                            0.4444444444444444,
                            "#bd3786"
                          ],
                          [
                            0.5555555555555556,
                            "#d8576b"
                          ],
                          [
                            0.6666666666666666,
                            "#ed7953"
                          ],
                          [
                            0.7777777777777778,
                            "#fb9f3a"
                          ],
                          [
                            0.8888888888888888,
                            "#fdca26"
                          ],
                          [
                            1,
                            "#f0f921"
                          ]
                        ]
                      }
                    ],
                    "mesh3d": [
                      {
                        "type": "mesh3d",
                        "colorbar": {
                          "outlinewidth": 0,
                          "ticks": ""
                        }
                      }
                    ],
                    "scatter": [
                      {
                        "marker": {
                          "line": {
                            "color": "#283442"
                          }
                        },
                        "type": "scatter"
                      }
                    ],
                    "parcoords": [
                      {
                        "type": "parcoords",
                        "line": {
                          "colorbar": {
                            "outlinewidth": 0,
                            "ticks": ""
                          }
                        }
                      }
                    ],
                    "scatterpolargl": [
                      {
                        "type": "scatterpolargl",
                        "marker": {
                          "colorbar": {
                            "outlinewidth": 0,
                            "ticks": ""
                          }
                        }
                      }
                    ],
                    "bar": [
                      {
                        "error_x": {
                          "color": "#f2f5fa"
                        },
                        "error_y": {
                          "color": "#f2f5fa"
                        },
                        "marker": {
                          "line": {
                            "color": "rgb(17,17,17)",
                            "width": 0.5
                          },
                          "pattern": {
                            "fillmode": "overlay",
                            "size": 10,
                            "solidity": 0.2
                          }
                        },
                        "type": "bar"
                      }
                    ],
                    "scattergeo": [
                      {
                        "type": "scattergeo",
                        "marker": {
                          "colorbar": {
                            "outlinewidth": 0,
                            "ticks": ""
                          }
                        }
                      }
                    ],
                    "scatterpolar": [
                      {
                        "type": "scatterpolar",
                        "marker": {
                          "colorbar": {
                            "outlinewidth": 0,
                            "ticks": ""
                          }
                        }
                      }
                    ],
                    "histogram": [
                      {
                        "marker": {
                          "pattern": {
                            "fillmode": "overlay",
                            "size": 10,
                            "solidity": 0.2
                          }
                        },
                        "type": "histogram"
                      }
                    ],
                    "scattergl": [
                      {
                        "marker": {
                          "line": {
                            "color": "#283442"
                          }
                        },
                        "type": "scattergl"
                      }
                    ],
                    "scatter3d": [
                      {
                        "type": "scatter3d",
                        "line": {
                          "colorbar": {
                            "outlinewidth": 0,
                            "ticks": ""
                          }
                        },
                        "marker": {
                          "colorbar": {
                            "outlinewidth": 0,
                            "ticks": ""
                          }
                        }
                      }
                    ],
                    "scattermapbox": [
                      {
                        "type": "scattermapbox",
                        "marker": {
                          "colorbar": {
                            "outlinewidth": 0,
                            "ticks": ""
                          }
                        }
                      }
                    ],
                    "scatterternary": [
                      {
                        "type": "scatterternary",
                        "marker": {
                          "colorbar": {
                            "outlinewidth": 0,
                            "ticks": ""
                          }
                        }
                      }
                    ],
                    "scattercarpet": [
                      {
                        "type": "scattercarpet",
                        "marker": {
                          "colorbar": {
                            "outlinewidth": 0,
                            "ticks": ""
                          }
                        }
                      }
                    ],
                    "carpet": [
                      {
                        "aaxis": {
                          "endlinecolor": "#A2B1C6",
                          "gridcolor": "#506784",
                          "linecolor": "#506784",
                          "minorgridcolor": "#506784",
                          "startlinecolor": "#A2B1C6"
                        },
                        "baxis": {
                          "endlinecolor": "#A2B1C6",
                          "gridcolor": "#506784",
                          "linecolor": "#506784",
                          "minorgridcolor": "#506784",
                          "startlinecolor": "#A2B1C6"
                        },
                        "type": "carpet"
                      }
                    ],
                    "table": [
                      {
                        "cells": {
                          "fill": {
                            "color": "#506784"
                          },
                          "line": {
                            "color": "rgb(17,17,17)"
                          }
                        },
                        "header": {
                          "fill": {
                            "color": "#2a3f5f"
                          },
                          "line": {
                            "color": "rgb(17,17,17)"
                          }
                        },
                        "type": "table"
                      }
                    ],
                    "barpolar": [
                      {
                        "marker": {
                          "line": {
                            "color": "rgb(17,17,17)",
                            "width": 0.5
                          },
                          "pattern": {
                            "fillmode": "overlay",
                            "size": 10,
                            "solidity": 0.2
                          }
                        },
                        "type": "barpolar"
                      }
                    ],
                    "pie": [
                      {
                        "automargin": true,
                        "type": "pie"
                      }
                    ]
                  },
                  "layout": {
                    "autotypenumbers": "strict",
                    "colorway": [
                      "#636efa",
                      "#EF553B",
                      "#00cc96",
                      "#ab63fa",
                      "#FFA15A",
                      "#19d3f3",
                      "#FF6692",
                      "#B6E880",
                      "#FF97FF",
                      "#FECB52"
                    ],
                    "font": {
                      "color": "#f2f5fa"
                    },
                    "hovermode": "closest",
                    "hoverlabel": {
                      "align": "left"
                    },
                    "paper_bgcolor": "rgb(17,17,17)",
                    "plot_bgcolor": "rgb(17,17,17)",
                    "polar": {
                      "bgcolor": "rgb(17,17,17)",
                      "angularaxis": {
                        "gridcolor": "#506784",
                        "linecolor": "#506784",
                        "ticks": ""
                      },
                      "radialaxis": {
                        "gridcolor": "#506784",
                        "linecolor": "#506784",
                        "ticks": ""
                      }
                    },
                    "ternary": {
                      "bgcolor": "rgb(17,17,17)",
                      "aaxis": {
                        "gridcolor": "#506784",
                        "linecolor": "#506784",
                        "ticks": ""
                      },
                      "baxis": {
                        "gridcolor": "#506784",
                        "linecolor": "#506784",
                        "ticks": ""
                      },
                      "caxis": {
                        "gridcolor": "#506784",
                        "linecolor": "#506784",
                        "ticks": ""
                      }
                    },
                    "coloraxis": {
                      "colorbar": {
                        "outlinewidth": 0,
                        "ticks": ""
                      }
                    },
                    "colorscale": {
                      "sequential": [
                        [
                          0,
                          "#0d0887"
                        ],
                        [
                          0.1111111111111111,
                          "#46039f"
                        ],
                        [
                          0.2222222222222222,
                          "#7201a8"
                        ],
                        [
                          0.3333333333333333,
                          "#9c179e"
                        ],
                        [
                          0.4444444444444444,
                          "#bd3786"
                        ],
                        [
                          0.5555555555555556,
                          "#d8576b"
                        ],
                        [
                          0.6666666666666666,
                          "#ed7953"
                        ],
                        [
                          0.7777777777777778,
                          "#fb9f3a"
                        ],
                        [
                          0.8888888888888888,
                          "#fdca26"
                        ],
                        [
                          1,
                          "#f0f921"
                        ]
                      ],
                      "sequentialminus": [
                        [
                          0,
                          "#0d0887"
                        ],
                        [
                          0.1111111111111111,
                          "#46039f"
                        ],
                        [
                          0.2222222222222222,
                          "#7201a8"
                        ],
                        [
                          0.3333333333333333,
                          "#9c179e"
                        ],
                        [
                          0.4444444444444444,
                          "#bd3786"
                        ],
                        [
                          0.5555555555555556,
                          "#d8576b"
                        ],
                        [
                          0.6666666666666666,
                          "#ed7953"
                        ],
                        [
                          0.7777777777777778,
                          "#fb9f3a"
                        ],
                        [
                          0.8888888888888888,
                          "#fdca26"
                        ],
                        [
                          1,
                          "#f0f921"
                        ]
                      ],
                      "diverging": [
                        [
                          0,
                          "#8e0152"
                        ],
                        [
                          0.1,
                          "#c51b7d"
                        ],
                        [
                          0.2,
                          "#de77ae"
                        ],
                        [
                          0.3,
                          "#f1b6da"
                        ],
                        [
                          0.4,
                          "#fde0ef"
                        ],
                        [
                          0.5,
                          "#f7f7f7"
                        ],
                        [
                          0.6,
                          "#e6f5d0"
                        ],
                        [
                          0.7,
                          "#b8e186"
                        ],
                        [
                          0.8,
                          "#7fbc41"
                        ],
                        [
                          0.9,
                          "#4d9221"
                        ],
                        [
                          1,
                          "#276419"
                        ]
                      ]
                    },
                    "xaxis": {
                      "gridcolor": "#283442",
                      "linecolor": "#506784",
                      "ticks": "",
                      "title": {
                        "standoff": 15
                      },
                      "zerolinecolor": "#283442",
                      "automargin": true,
                      "zerolinewidth": 2
                    },
                    "yaxis": {
                      "gridcolor": "#283442",
                      "linecolor": "#506784",
                      "ticks": "",
                      "title": {
                        "standoff": 15
                      },
                      "zerolinecolor": "#283442",
                      "automargin": true,
                      "zerolinewidth": 2
                    },
                    "scene": {
                      "xaxis": {
                        "backgroundcolor": "rgb(17,17,17)",
                        "gridcolor": "#506784",
                        "linecolor": "#506784",
                        "showbackground": true,
                        "ticks": "",
                        "zerolinecolor": "#C8D4E3",
                        "gridwidth": 2
                      },
                      "yaxis": {
                        "backgroundcolor": "rgb(17,17,17)",
                        "gridcolor": "#506784",
                        "linecolor": "#506784",
                        "showbackground": true,
                        "ticks": "",
                        "zerolinecolor": "#C8D4E3",
                        "gridwidth": 2
                      },
                      "zaxis": {
                        "backgroundcolor": "rgb(17,17,17)",
                        "gridcolor": "#506784",
                        "linecolor": "#506784",
                        "showbackground": true,
                        "ticks": "",
                        "zerolinecolor": "#C8D4E3",
                        "gridwidth": 2
                      }
                    },
                    "shapedefaults": {
                      "line": {
                        "color": "#f2f5fa"
                      }
                    },
                    "annotationdefaults": {
                      "arrowcolor": "#f2f5fa",
                      "arrowhead": 0,
                      "arrowwidth": 1
                    },
                    "geo": {
                      "bgcolor": "rgb(17,17,17)",
                      "landcolor": "rgb(17,17,17)",
                      "subunitcolor": "#506784",
                      "showland": true,
                      "showlakes": true,
                      "lakecolor": "rgb(17,17,17)"
                    },
                    "title": {
                      "x": 0.05
                    },
                    "updatemenudefaults": {
                      "bgcolor": "#506784",
                      "borderwidth": 0
                    },
                    "sliderdefaults": {
                      "bgcolor": "#C8D4E3",
                      "borderwidth": 1,
                      "bordercolor": "rgb(17,17,17)",
                      "tickwidth": 0
                    },
                    "mapbox": {
                      "style": "dark"
                    }
                  }
                },
                "xaxis": {
                  "anchor": "y",
                  "domain": [
                    0,
                    1
                  ],
                  "scaleanchor": "y",
                  "constrain": "domain"
                },
                "yaxis": {
                  "anchor": "x",
                  "domain": [
                    0,
                    1
                  ],
                  "autorange": "reversed",
                  "constrain": "domain"
                },
                "coloraxis": {
                  "colorscale": [
                    [
                      0,
                      "#440154"
                    ],
                    [
                      0.1111111111111111,
                      "#482878"
                    ],
                    [
                      0.2222222222222222,
                      "#3e4989"
                    ],
                    [
                      0.3333333333333333,
                      "#31688e"
                    ],
                    [
                      0.4444444444444444,
                      "#26828e"
                    ],
                    [
                      0.5555555555555556,
                      "#1f9e89"
                    ],
                    [
                      0.6666666666666666,
                      "#35b779"
                    ],
                    [
                      0.7777777777777778,
                      "#6ece58"
                    ],
                    [
                      0.8888888888888888,
                      "#b5de2b"
                    ],
                    [
                      1,
                      "#fde725"
                    ]
                  ]
                },
                "margin": {
                  "t": 60
                }
              },
              "config": {
                "plotlyServerURL": "https://plot.ly"
              }
            },
            "text/html": [
              "<div>                            <div id=\"eefa4eac-0d8b-4c73-92d3-5d15069841b9\" class=\"plotly-graph-div\" style=\"height:525px; width:100%;\"></div>            <script type=\"text/javascript\">                require([\"plotly\"], function(Plotly) {                    window.PLOTLYENV=window.PLOTLYENV || {};                                    if (document.getElementById(\"eefa4eac-0d8b-4c73-92d3-5d15069841b9\")) {                    Plotly.newPlot(                        \"eefa4eac-0d8b-4c73-92d3-5d15069841b9\",                        [{\"coloraxis\":\"coloraxis\",\"name\":\"0\",\"x\":[\"Well\",\"Por\",\"Perm\",\"AI\",\"Brittle\",\"TOC\",\"VR\",\"Prod\"],\"y\":[\"Well\",\"Por\",\"Perm\",\"AI\",\"Brittle\",\"TOC\",\"VR\",\"Prod\"],\"z\":[[1.0,0.06892650716930902,0.07792780891929288,0.0414826184736394,-0.07925236389007449,0.02262431043795967,-0.007278678268113182,0.02681677681635362],[0.06892650716930902,1.0,0.7605459242862604,-0.46154937413830893,-0.21857029663949573,0.7118306758116919,0.11185977924568775,0.8619095390498694],[0.07792780891929288,0.7605459242862604,1.0,-0.23963581449371366,-0.12401730308963654,0.47174631684108176,0.05102320050943358,0.7274261409379983],[0.0414826184736394,-0.46154937413830893,-0.23963581449371366,1.0,0.127599431810448,-0.5318635967128338,0.49914264873911235,-0.39083476681722223],[-0.07925236389007449,-0.21857029663949573,-0.12401730308963654,0.127599431810448,1.0,-0.2142817704313906,0.31792865708154255,0.23715533470634578],[0.02262431043795967,0.7118306758116919,0.47174631684108176,-0.5318635967128338,-0.2142817704313906,1.0,0.299482866262007,0.6544451995719837],[-0.007278678268113182,0.11185977924568775,0.05102320050943358,0.49914264873911235,0.31792865708154255,0.299482866262007,1.0,0.3231815474813121],[0.02681677681635362,0.8619095390498694,0.7274261409379983,-0.39083476681722223,0.23715533470634578,0.6544451995719837,0.3231815474813121,1.0]],\"type\":\"heatmap\",\"xaxis\":\"x\",\"yaxis\":\"y\",\"hovertemplate\":\"x: %{x}\\u003cbr\\u003ey: %{y}\\u003cbr\\u003ecolor: %{z}\\u003cextra\\u003e\\u003c\\u002fextra\\u003e\"}],                        {\"template\":{\"data\":{\"histogram2dcontour\":[{\"type\":\"histogram2dcontour\",\"colorbar\":{\"outlinewidth\":0,\"ticks\":\"\"},\"colorscale\":[[0.0,\"#0d0887\"],[0.1111111111111111,\"#46039f\"],[0.2222222222222222,\"#7201a8\"],[0.3333333333333333,\"#9c179e\"],[0.4444444444444444,\"#bd3786\"],[0.5555555555555556,\"#d8576b\"],[0.6666666666666666,\"#ed7953\"],[0.7777777777777778,\"#fb9f3a\"],[0.8888888888888888,\"#fdca26\"],[1.0,\"#f0f921\"]]}],\"choropleth\":[{\"type\":\"choropleth\",\"colorbar\":{\"outlinewidth\":0,\"ticks\":\"\"}}],\"histogram2d\":[{\"type\":\"histogram2d\",\"colorbar\":{\"outlinewidth\":0,\"ticks\":\"\"},\"colorscale\":[[0.0,\"#0d0887\"],[0.1111111111111111,\"#46039f\"],[0.2222222222222222,\"#7201a8\"],[0.3333333333333333,\"#9c179e\"],[0.4444444444444444,\"#bd3786\"],[0.5555555555555556,\"#d8576b\"],[0.6666666666666666,\"#ed7953\"],[0.7777777777777778,\"#fb9f3a\"],[0.8888888888888888,\"#fdca26\"],[1.0,\"#f0f921\"]]}],\"heatmap\":[{\"type\":\"heatmap\",\"colorbar\":{\"outlinewidth\":0,\"ticks\":\"\"},\"colorscale\":[[0.0,\"#0d0887\"],[0.1111111111111111,\"#46039f\"],[0.2222222222222222,\"#7201a8\"],[0.3333333333333333,\"#9c179e\"],[0.4444444444444444,\"#bd3786\"],[0.5555555555555556,\"#d8576b\"],[0.6666666666666666,\"#ed7953\"],[0.7777777777777778,\"#fb9f3a\"],[0.8888888888888888,\"#fdca26\"],[1.0,\"#f0f921\"]]}],\"heatmapgl\":[{\"type\":\"heatmapgl\",\"colorbar\":{\"outlinewidth\":0,\"ticks\":\"\"},\"colorscale\":[[0.0,\"#0d0887\"],[0.1111111111111111,\"#46039f\"],[0.2222222222222222,\"#7201a8\"],[0.3333333333333333,\"#9c179e\"],[0.4444444444444444,\"#bd3786\"],[0.5555555555555556,\"#d8576b\"],[0.6666666666666666,\"#ed7953\"],[0.7777777777777778,\"#fb9f3a\"],[0.8888888888888888,\"#fdca26\"],[1.0,\"#f0f921\"]]}],\"contourcarpet\":[{\"type\":\"contourcarpet\",\"colorbar\":{\"outlinewidth\":0,\"ticks\":\"\"}}],\"contour\":[{\"type\":\"contour\",\"colorbar\":{\"outlinewidth\":0,\"ticks\":\"\"},\"colorscale\":[[0.0,\"#0d0887\"],[0.1111111111111111,\"#46039f\"],[0.2222222222222222,\"#7201a8\"],[0.3333333333333333,\"#9c179e\"],[0.4444444444444444,\"#bd3786\"],[0.5555555555555556,\"#d8576b\"],[0.6666666666666666,\"#ed7953\"],[0.7777777777777778,\"#fb9f3a\"],[0.8888888888888888,\"#fdca26\"],[1.0,\"#f0f921\"]]}],\"surface\":[{\"type\":\"surface\",\"colorbar\":{\"outlinewidth\":0,\"ticks\":\"\"},\"colorscale\":[[0.0,\"#0d0887\"],[0.1111111111111111,\"#46039f\"],[0.2222222222222222,\"#7201a8\"],[0.3333333333333333,\"#9c179e\"],[0.4444444444444444,\"#bd3786\"],[0.5555555555555556,\"#d8576b\"],[0.6666666666666666,\"#ed7953\"],[0.7777777777777778,\"#fb9f3a\"],[0.8888888888888888,\"#fdca26\"],[1.0,\"#f0f921\"]]}],\"mesh3d\":[{\"type\":\"mesh3d\",\"colorbar\":{\"outlinewidth\":0,\"ticks\":\"\"}}],\"scatter\":[{\"marker\":{\"line\":{\"color\":\"#283442\"}},\"type\":\"scatter\"}],\"parcoords\":[{\"type\":\"parcoords\",\"line\":{\"colorbar\":{\"outlinewidth\":0,\"ticks\":\"\"}}}],\"scatterpolargl\":[{\"type\":\"scatterpolargl\",\"marker\":{\"colorbar\":{\"outlinewidth\":0,\"ticks\":\"\"}}}],\"bar\":[{\"error_x\":{\"color\":\"#f2f5fa\"},\"error_y\":{\"color\":\"#f2f5fa\"},\"marker\":{\"line\":{\"color\":\"rgb(17,17,17)\",\"width\":0.5},\"pattern\":{\"fillmode\":\"overlay\",\"size\":10,\"solidity\":0.2}},\"type\":\"bar\"}],\"scattergeo\":[{\"type\":\"scattergeo\",\"marker\":{\"colorbar\":{\"outlinewidth\":0,\"ticks\":\"\"}}}],\"scatterpolar\":[{\"type\":\"scatterpolar\",\"marker\":{\"colorbar\":{\"outlinewidth\":0,\"ticks\":\"\"}}}],\"histogram\":[{\"marker\":{\"pattern\":{\"fillmode\":\"overlay\",\"size\":10,\"solidity\":0.2}},\"type\":\"histogram\"}],\"scattergl\":[{\"marker\":{\"line\":{\"color\":\"#283442\"}},\"type\":\"scattergl\"}],\"scatter3d\":[{\"type\":\"scatter3d\",\"line\":{\"colorbar\":{\"outlinewidth\":0,\"ticks\":\"\"}},\"marker\":{\"colorbar\":{\"outlinewidth\":0,\"ticks\":\"\"}}}],\"scattermapbox\":[{\"type\":\"scattermapbox\",\"marker\":{\"colorbar\":{\"outlinewidth\":0,\"ticks\":\"\"}}}],\"scatterternary\":[{\"type\":\"scatterternary\",\"marker\":{\"colorbar\":{\"outlinewidth\":0,\"ticks\":\"\"}}}],\"scattercarpet\":[{\"type\":\"scattercarpet\",\"marker\":{\"colorbar\":{\"outlinewidth\":0,\"ticks\":\"\"}}}],\"carpet\":[{\"aaxis\":{\"endlinecolor\":\"#A2B1C6\",\"gridcolor\":\"#506784\",\"linecolor\":\"#506784\",\"minorgridcolor\":\"#506784\",\"startlinecolor\":\"#A2B1C6\"},\"baxis\":{\"endlinecolor\":\"#A2B1C6\",\"gridcolor\":\"#506784\",\"linecolor\":\"#506784\",\"minorgridcolor\":\"#506784\",\"startlinecolor\":\"#A2B1C6\"},\"type\":\"carpet\"}],\"table\":[{\"cells\":{\"fill\":{\"color\":\"#506784\"},\"line\":{\"color\":\"rgb(17,17,17)\"}},\"header\":{\"fill\":{\"color\":\"#2a3f5f\"},\"line\":{\"color\":\"rgb(17,17,17)\"}},\"type\":\"table\"}],\"barpolar\":[{\"marker\":{\"line\":{\"color\":\"rgb(17,17,17)\",\"width\":0.5},\"pattern\":{\"fillmode\":\"overlay\",\"size\":10,\"solidity\":0.2}},\"type\":\"barpolar\"}],\"pie\":[{\"automargin\":true,\"type\":\"pie\"}]},\"layout\":{\"autotypenumbers\":\"strict\",\"colorway\":[\"#636efa\",\"#EF553B\",\"#00cc96\",\"#ab63fa\",\"#FFA15A\",\"#19d3f3\",\"#FF6692\",\"#B6E880\",\"#FF97FF\",\"#FECB52\"],\"font\":{\"color\":\"#f2f5fa\"},\"hovermode\":\"closest\",\"hoverlabel\":{\"align\":\"left\"},\"paper_bgcolor\":\"rgb(17,17,17)\",\"plot_bgcolor\":\"rgb(17,17,17)\",\"polar\":{\"bgcolor\":\"rgb(17,17,17)\",\"angularaxis\":{\"gridcolor\":\"#506784\",\"linecolor\":\"#506784\",\"ticks\":\"\"},\"radialaxis\":{\"gridcolor\":\"#506784\",\"linecolor\":\"#506784\",\"ticks\":\"\"}},\"ternary\":{\"bgcolor\":\"rgb(17,17,17)\",\"aaxis\":{\"gridcolor\":\"#506784\",\"linecolor\":\"#506784\",\"ticks\":\"\"},\"baxis\":{\"gridcolor\":\"#506784\",\"linecolor\":\"#506784\",\"ticks\":\"\"},\"caxis\":{\"gridcolor\":\"#506784\",\"linecolor\":\"#506784\",\"ticks\":\"\"}},\"coloraxis\":{\"colorbar\":{\"outlinewidth\":0,\"ticks\":\"\"}},\"colorscale\":{\"sequential\":[[0.0,\"#0d0887\"],[0.1111111111111111,\"#46039f\"],[0.2222222222222222,\"#7201a8\"],[0.3333333333333333,\"#9c179e\"],[0.4444444444444444,\"#bd3786\"],[0.5555555555555556,\"#d8576b\"],[0.6666666666666666,\"#ed7953\"],[0.7777777777777778,\"#fb9f3a\"],[0.8888888888888888,\"#fdca26\"],[1.0,\"#f0f921\"]],\"sequentialminus\":[[0.0,\"#0d0887\"],[0.1111111111111111,\"#46039f\"],[0.2222222222222222,\"#7201a8\"],[0.3333333333333333,\"#9c179e\"],[0.4444444444444444,\"#bd3786\"],[0.5555555555555556,\"#d8576b\"],[0.6666666666666666,\"#ed7953\"],[0.7777777777777778,\"#fb9f3a\"],[0.8888888888888888,\"#fdca26\"],[1.0,\"#f0f921\"]],\"diverging\":[[0,\"#8e0152\"],[0.1,\"#c51b7d\"],[0.2,\"#de77ae\"],[0.3,\"#f1b6da\"],[0.4,\"#fde0ef\"],[0.5,\"#f7f7f7\"],[0.6,\"#e6f5d0\"],[0.7,\"#b8e186\"],[0.8,\"#7fbc41\"],[0.9,\"#4d9221\"],[1,\"#276419\"]]},\"xaxis\":{\"gridcolor\":\"#283442\",\"linecolor\":\"#506784\",\"ticks\":\"\",\"title\":{\"standoff\":15},\"zerolinecolor\":\"#283442\",\"automargin\":true,\"zerolinewidth\":2},\"yaxis\":{\"gridcolor\":\"#283442\",\"linecolor\":\"#506784\",\"ticks\":\"\",\"title\":{\"standoff\":15},\"zerolinecolor\":\"#283442\",\"automargin\":true,\"zerolinewidth\":2},\"scene\":{\"xaxis\":{\"backgroundcolor\":\"rgb(17,17,17)\",\"gridcolor\":\"#506784\",\"linecolor\":\"#506784\",\"showbackground\":true,\"ticks\":\"\",\"zerolinecolor\":\"#C8D4E3\",\"gridwidth\":2},\"yaxis\":{\"backgroundcolor\":\"rgb(17,17,17)\",\"gridcolor\":\"#506784\",\"linecolor\":\"#506784\",\"showbackground\":true,\"ticks\":\"\",\"zerolinecolor\":\"#C8D4E3\",\"gridwidth\":2},\"zaxis\":{\"backgroundcolor\":\"rgb(17,17,17)\",\"gridcolor\":\"#506784\",\"linecolor\":\"#506784\",\"showbackground\":true,\"ticks\":\"\",\"zerolinecolor\":\"#C8D4E3\",\"gridwidth\":2}},\"shapedefaults\":{\"line\":{\"color\":\"#f2f5fa\"}},\"annotationdefaults\":{\"arrowcolor\":\"#f2f5fa\",\"arrowhead\":0,\"arrowwidth\":1},\"geo\":{\"bgcolor\":\"rgb(17,17,17)\",\"landcolor\":\"rgb(17,17,17)\",\"subunitcolor\":\"#506784\",\"showland\":true,\"showlakes\":true,\"lakecolor\":\"rgb(17,17,17)\"},\"title\":{\"x\":0.05},\"updatemenudefaults\":{\"bgcolor\":\"#506784\",\"borderwidth\":0},\"sliderdefaults\":{\"bgcolor\":\"#C8D4E3\",\"borderwidth\":1,\"bordercolor\":\"rgb(17,17,17)\",\"tickwidth\":0},\"mapbox\":{\"style\":\"dark\"}}},\"xaxis\":{\"anchor\":\"y\",\"domain\":[0.0,1.0],\"scaleanchor\":\"y\",\"constrain\":\"domain\"},\"yaxis\":{\"anchor\":\"x\",\"domain\":[0.0,1.0],\"autorange\":\"reversed\",\"constrain\":\"domain\"},\"coloraxis\":{\"colorscale\":[[0.0,\"#440154\"],[0.1111111111111111,\"#482878\"],[0.2222222222222222,\"#3e4989\"],[0.3333333333333333,\"#31688e\"],[0.4444444444444444,\"#26828e\"],[0.5555555555555556,\"#1f9e89\"],[0.6666666666666666,\"#35b779\"],[0.7777777777777778,\"#6ece58\"],[0.8888888888888888,\"#b5de2b\"],[1.0,\"#fde725\"]]},\"margin\":{\"t\":60}},                        {\"responsive\": true}                    ).then(function(){\n",
              "                            \n",
              "var gd = document.getElementById('eefa4eac-0d8b-4c73-92d3-5d15069841b9');\n",
              "var x = new MutationObserver(function (mutations, observer) {{\n",
              "        var display = window.getComputedStyle(gd).display;\n",
              "        if (!display || display === 'none') {{\n",
              "            console.log([gd, 'removed!']);\n",
              "            Plotly.purge(gd);\n",
              "            observer.disconnect();\n",
              "        }}\n",
              "}});\n",
              "\n",
              "// Listen for the removal of the full notebook cells\n",
              "var notebookContainer = gd.closest('#notebook-container');\n",
              "if (notebookContainer) {{\n",
              "    x.observe(notebookContainer, {childList: true});\n",
              "}}\n",
              "\n",
              "// Listen for the clearing of the current output cell\n",
              "var outputEl = gd.closest('.output');\n",
              "if (outputEl) {{\n",
              "    x.observe(outputEl, {childList: true});\n",
              "}}\n",
              "\n",
              "                        })                };                });            </script>        </div>"
            ]
          },
          "metadata": {},
          "output_type": "display_data"
        }
      ],
      "execution_count": null
    },
    {
      "cell_type": "markdown",
      "id": "9a56013d",
      "metadata": {
        "id": "9a56013d"
      },
      "source": [
        "1) Сильнее всего с целевым показателем коррелируют показатели Por, Perm и TOC.\n",
        "2) Корреляционная матрица плохо обусловлена, так как ее определитель (0.00073) довольно близок к нулю.\n",
        "3) В данных отсутствуют как чистая коллинеарность, так и мультиколлинеарность - нет абсолютно связанных факторов как между собой, так и с целевым показателем и ранг матрицы равен ее размеру. Однако присутствуют сильно связанные между собой факторы и определитель близок к нулю, что говорит о высокой мультиколлинеарности.\n",
        "4) Модель классической линейной регрессии применима, но требуется предварительная очистка данных от лишних факторов."
      ]
    },
    {
      "cell_type": "markdown",
      "id": "43fd91c4",
      "metadata": {
        "id": "43fd91c4"
      },
      "source": [
        "### Задание 5.2. (2 балла)\n",
        "\n",
        "Создайте матрицу наблюдений `X` и вектор правильных ответов `y`. В качестве факторов для матрицы наблюдений возьмите все имеющиеся в данных признаки.\n",
        "\n",
        "Постройте модель линейной регрессии по методу наименьших квадратов. Для этого воспользуйтесь матричной формулой МНК и инструментарием библиотеки numpy.\n",
        "\n",
        "Выведите на экран полученные оценки коэффициентов модели, округлённые до целого.\n",
        "\n",
        "Приведите подробные выводы по полученным результатам, ответив на следующие вопросы:\n",
        "* Есть ли в ваших данных признаки, которые, согласно модели, можно назвать неинформативными, то есть они не оказывают влияния на целевую переменную или оказывают шумовое влияние?\n",
        "* Приведите интерпретацию нескольких (двух или трёх) коэффициентов полученной модели линейной регрессии.\n"
      ]
    },
    {
      "cell_type": "markdown",
      "source": [
        "**Критерии оценивания:**\n",
        "- Задание выполнено верно, учтены все условия (**2 балла**):\n",
        "    * приведён код для нахождения параметров модели линейной регрессии с помощью матричной формулы МНК;\n",
        "    * на основе полученных параметров даны верные ответы на поставленные вопросы;\n",
        "    * приведена корректная интерпретация нескольких коэффициентов полученной модели линейной регрессии.\n",
        "\n",
        "- Задание выполнено верно, но не учтено одно из условий (**1 балл**).\n",
        "- Задание выполнено неверно, не учтено несколько условий (**0 баллов**)."
      ],
      "metadata": {
        "id": "QtNtTUzI4Cpq"
      },
      "id": "QtNtTUzI4Cpq"
    },
    {
      "cell_type": "code",
      "id": "5724288c",
      "metadata": {
        "id": "5724288c",
        "ExecuteTime": {
          "end_time": "2024-11-17T16:13:36.576177Z",
          "start_time": "2024-11-17T16:13:36.566441Z"
        },
        "outputId": "0dadb1e7-75dd-412c-c858-a76e56a95434"
      },
      "source": [
        "# Ваш код здесь\n",
        "x = np.column_stack((np.ones(data.shape[0]),data[['Well', 'Por', 'Perm', 'AI', 'Brittle', 'TOC', 'VR']]))\n",
        "y = data[['Prod']]\n",
        "\n",
        "w_hat = np.linalg.inv(x.T@x)@x.T@y\n",
        "print(np.round(w_hat.values, 0))"
      ],
      "outputs": [
        {
          "name": "stdout",
          "output_type": "stream",
          "text": [
            "[[-1232.]\n",
            " [    0.]\n",
            " [  230.]\n",
            " [  116.]\n",
            " [ -365.]\n",
            " [   25.]\n",
            " [  -78.]\n",
            " [  785.]]\n"
          ]
        }
      ],
      "execution_count": null
    },
    {
      "cell_type": "markdown",
      "id": "bab9ee21",
      "metadata": {
        "id": "bab9ee21"
      },
      "source": [
        "1) Есть шумовой фактор - Well, его влияние близко к 0. Это логично, так как данный показатель является просто идентификатором скважины.\n",
        "2) При увеличении пористости на 1% добыча вырастает на 230 млн. кубических футов в сутки.\n",
        "3) При увеличении проницаемость на 1 добыча вырастает на 116 млн. кубических футов в сутки.\n",
        "4) При увеличении коэффициента хрупкости на 1 % добыча снижается на 365 млн. кубических футов в сутки."
      ]
    },
    {
      "cell_type": "markdown",
      "id": "4a05a4ac",
      "metadata": {
        "id": "4a05a4ac"
      },
      "source": [
        "### Задание 5.3. (1 балл)\n",
        "\n",
        "Теперь потренируемся строить предсказание для наблюдений целевой переменной.\n",
        "\n",
        "**а)** Постройте прогноз выработки газа для скважины со следующими параметрами:\n",
        "\n",
        "```python\n",
        "{\n",
        "    'Well': 106.0,\n",
        "    'Por': 15.32,\n",
        "    'Perm': 3.71,\n",
        "    'AI': 3.29,\n",
        "    'Brittle': 55.99,\n",
        "    'TOC': 1.35,\n",
        "    'VR': 2.42\n",
        " }\n",
        "```\n",
        "\n",
        "Рассчитайте абсолютную ошибку построенного вами прогноза для предложенной скважины (в миллионах кубических футов в день), если известно, что на этой скважине производится `4748.315024` миллионов кубических футов газа в день.\n",
        "\n",
        "**б)** Постройте прогноз выработки газа для всех скважин из обучающего набора данных. Выберите метрику, по которой вы будете оценивать качество регрессионных моделей и сравнивать их между собой (можно использовать несколько метрик, но не более двух).\n",
        "\n",
        "Рассчитайте значение выбранной метрики для вашей модели. Приведите интерпретацию полученного результата."
      ]
    },
    {
      "cell_type": "markdown",
      "source": [
        "**Критерии оценивания:**\n",
        "- Задание выполнено верно, учтены все условия (**1 балл**):\n",
        "    * приведён код для построения прогноза выработки газа на указанной скважине и рассчитана абсолютная ошибка прогноза для этой скважины;\n",
        "    * выбрана корректная для поставленной задачи метрика (или метрики) оценки качества модели и приведён код для расчёта этой метрики на всём обучающем наборе данных;\n",
        "    * приведена корректная интерпретация полученного результата.\n",
        "\n",
        "- Задание выполнено верно, но не учтено одно из условий, или задание выполнено неверно (**0 баллов**)."
      ],
      "metadata": {
        "id": "qUDcep5Q5GWU"
      },
      "id": "qUDcep5Q5GWU"
    },
    {
      "cell_type": "code",
      "id": "e4291db0",
      "metadata": {
        "id": "e4291db0",
        "ExecuteTime": {
          "end_time": "2024-11-17T16:13:36.647924Z",
          "start_time": "2024-11-17T16:13:36.640686Z"
        },
        "outputId": "d00640d6-4061-4f74-eb7a-0ea5cc81f510"
      },
      "source": [
        "# Ваш код здесь\n",
        "# 5.2 a)\n",
        "new_data = {\n",
        "    'w0': 1,\n",
        "    'Well': 106.0,\n",
        "    'Por': 15.32,\n",
        "    'Perm': 3.71,\n",
        "    'AI': 3.29,\n",
        "    'Brittle': 55.99,\n",
        "    'TOC': 1.35,\n",
        "    'VR': 2.42\n",
        "}\n",
        "new_data = np.array(list(new_data.values()))\n",
        "\n",
        "new_prod_predict = (new_data@w_hat).iloc[0]\n",
        "print(f'Прогнозируемая выработка для новой скважины {new_prod_predict}')\n",
        "\n",
        "new_prod_real = 4748.315024\n",
        "\n",
        "print(f'Абсолютная ошибка прогноза равна {abs(new_prod_real - new_prod_predict)}')\n"
      ],
      "outputs": [
        {
          "name": "stdout",
          "output_type": "stream",
          "text": [
            "Прогнозируемая выработка для новой скважины 4723.064053707194\n",
            "Абсолютная ошибка прогноза равна 25.250970292806414\n"
          ]
        }
      ],
      "execution_count": null
    },
    {
      "metadata": {
        "ExecuteTime": {
          "end_time": "2024-11-17T16:13:36.848800Z",
          "start_time": "2024-11-17T16:13:36.842609Z"
        },
        "id": "17037105690c9f4c",
        "outputId": "9037d7b5-03eb-429a-e2cf-fa5b0766de53"
      },
      "cell_type": "code",
      "source": [
        "# 5.2 б)\n",
        "prediction = x@w_hat\n",
        "avg_deviation = (np.abs(data['Prod'] - prediction['Prod'])).sum() / data.shape[0]\n",
        "avg_square_deviation = ((data['Prod'] - prediction['Prod']) ** 2).sum() / data.shape[0]\n",
        "print(f'Среднее отклонение реальных данных от прогноза = {avg_deviation}')\n",
        "print(f'Среднее квадратическое отклонение реальных данных от прогноза = {avg_square_deviation}')\n"
      ],
      "id": "17037105690c9f4c",
      "outputs": [
        {
          "name": "stdout",
          "output_type": "stream",
          "text": [
            "Среднее отклонение реальных данных от прогноза = 153.62297086558314\n",
            "Среднее квадратическое отклонение реальных данных от прогноза = 39315.04014026637\n"
          ]
        }
      ],
      "execution_count": null
    },
    {
      "metadata": {
        "id": "c9bee4bc"
      },
      "cell_type": "markdown",
      "source": [
        "Выводы:\n",
        "1) Для предложенной скважины прогноз получился с относительно небольшой ошибкой - 25\n",
        "2) Среднее отклонение (и среднеквадратичное отклонение) для всех данных получилось уже довольно большим, что говорит о недостаточном качестве построенной модели"
      ],
      "id": "c9bee4bc"
    },
    {
      "metadata": {
        "id": "0c25c3aa"
      },
      "cell_type": "markdown",
      "source": [
        "### Задание 5.4. (1 балл)\n",
        "\n",
        "Настало время анализа построенной модели. Посмотрите на коэффициенты и сравните их знаки со значениями выборочных корреляций между целевым признаком и факторами, которые вы нашли ранее.\n",
        "\n",
        "Дайте развёрнутые ответы на следующие вопросы:\n",
        "\n",
        "* Есть ли в вашей модели фактор, при котором коэффициент в модели линейной регрессии противоречит соответствующему коэффициенту корреляции? Например, корреляция говорит, что зависимость между фактором и целевой переменной прямая, а модель говорит обратное. Если таких факторов несколько, укажите их все.\n",
        "* Как вы считаете, с чем связано полученное противоречие результатов?"
      ],
      "id": "0c25c3aa"
    },
    {
      "metadata": {
        "id": "ngJ3UdYb6Ll6"
      },
      "cell_type": "markdown",
      "source": [
        "**Критерии оценивания:**\n",
        "\n",
        "- Задание выполнено верно, даны корректные развёрнутые ответы на все поставленные в задании вопросы (**1 балл**).\n",
        "\n",
        "- Задание выполнено неверно, даны некорректные ответы на один или несколько поставленных в задании вопросов (**0 баллов**)."
      ],
      "id": "ngJ3UdYb6Ll6"
    },
    {
      "metadata": {
        "id": "v-zIxRPY9wK7",
        "ExecuteTime": {
          "end_time": "2024-11-17T16:13:36.978854Z",
          "start_time": "2024-11-17T16:13:36.969563Z"
        },
        "outputId": "17881a08-3891-4a9d-dbd9-66f62bd134f6"
      },
      "cell_type": "code",
      "source": [
        "# Выведем еще раз корреляцию параметров с целевым признаком и коэффициенты.\n",
        "display(corr_matrix.loc['Prod'])\n",
        "\n",
        "print(np.round(w_hat, 0))\n"
      ],
      "id": "v-zIxRPY9wK7",
      "outputs": [
        {
          "data": {
            "text/plain": [
              "Well       0.026817\n",
              "Por        0.861910\n",
              "Perm       0.727426\n",
              "AI        -0.390835\n",
              "Brittle    0.237155\n",
              "TOC        0.654445\n",
              "VR         0.323182\n",
              "Prod       1.000000\n",
              "Name: Prod, dtype: float64"
            ]
          },
          "metadata": {},
          "output_type": "display_data"
        },
        {
          "name": "stdout",
          "output_type": "stream",
          "text": [
            "     Prod\n",
            "0 -1232.0\n",
            "1     0.0\n",
            "2   230.0\n",
            "3   116.0\n",
            "4  -365.0\n",
            "5    25.0\n",
            "6   -78.0\n",
            "7   785.0\n"
          ]
        }
      ],
      "execution_count": null
    },
    {
      "cell_type": "markdown",
      "source": [
        "Мы видим, что параметр TOC имеет довольно высокую прямую корреляцию с выработкой, но при этом отрицательный коэффициент. На мой взгляд это говорит об ошибке в модели. Скорее всего такой результат связан с наличием искажающих параметров."
      ],
      "metadata": {
        "id": "qeowwIp99yBf"
      },
      "id": "qeowwIp99yBf"
    },
    {
      "cell_type": "markdown",
      "id": "9cea9195",
      "metadata": {
        "id": "9cea9195"
      },
      "source": [
        "### Задание 5.5. (2 балла)\n",
        "\n",
        "* Исключите из данных сильно коррелированные между собой факторы. Под сильной корреляцией в данной задаче будем понимать значения выше `0.7`.\n",
        "\n",
        "Выбирая, какой из коррелированных факторов оставить, руководствуйтесь коэффициентом корреляции с целевой переменной: оставляйте тот фактор, который больше всего коррелирует с целевой переменной (объёмом добычи газа).\n",
        "\n",
        "* Также исключите из данных факторы, для которых корреляция с целевой переменной меньше `0.05`.\n",
        "\n",
        "Постройте модель линейной регрессии на обновлённых после удаления факторов данных по методу наименьших квадратов. Для этого используйте матричную формулу и библиотеку numpy. Выведите значение полученных коэффициентов, округлённых до целого.\n",
        "\n",
        "Сделайте прогноз для всего обучающего набора данных и рассчитайте выбранную вами ранее метрику (или метрики).\n",
        "\n",
        "Дайте подробные ответы на следующие вопросы:\n",
        "\n",
        "* Приведите интерпретацию нескольких полученных коэффициентов (двух или трёх). Сравните их значения с полученными ранее.\n",
        "* Приведите интерпретацию полученных значений метрик. Сравните их значения с полученными ранее.\n",
        "* Удалось ли вам побороть противоречие коэффициентов линейной регрессии и коэффициентов корреляции?"
      ]
    },
    {
      "cell_type": "markdown",
      "source": [
        "**Критерии оценивания:**\n",
        "- Задание выполнено верно, учтены все условия (**2 балла**):\n",
        "    * отобраны верные факторы;\n",
        "    * на основе отобранных факторов построена модель линейной регрессии с помощью матричной формулы МНК и найдены параметры модели, соответствующие каждому из факторов;\n",
        "    * построен прогноз для всего обучающего набора данных и рассчитано значение метрики (метрика должна быть выбрана корректно);\n",
        "    * даны ответы на все поставленные в задании вопросы.\n",
        "\n",
        "- Задание выполнено верно, но не учтено одно из условий (**1 балл**).\n",
        "- Задание выполнено верно, не учтено несколько из условий (**0 баллов**)."
      ],
      "metadata": {
        "id": "vlUYVjJP6oXN"
      },
      "id": "vlUYVjJP6oXN"
    },
    {
      "cell_type": "code",
      "source": [
        "# Ваш код здесь\n",
        "cleaned_data = data.drop(['Perm', 'Well'], axis=1)\n",
        "\n",
        "x_clean = np.column_stack((np.ones(cleaned_data.shape[0]), cleaned_data[['Por', 'AI', 'Brittle', 'TOC', 'VR']]))\n",
        "y_clean = cleaned_data[['Prod']]\n",
        "\n",
        "w_hat_clean = np.linalg.inv(x_clean.T@x_clean)@x_clean.T@y_clean\n",
        "print(np.round(w_hat_clean.values, 0))"
      ],
      "metadata": {
        "id": "5d5ZJ0lX_UHe",
        "ExecuteTime": {
          "end_time": "2024-11-17T16:13:37.134168Z",
          "start_time": "2024-11-17T16:13:37.126808Z"
        },
        "outputId": "4d59fabc-f9b9-4ae4-d4a8-b7a29a2ffd00"
      },
      "id": "5d5ZJ0lX_UHe",
      "outputs": [
        {
          "name": "stdout",
          "output_type": "stream",
          "text": [
            "[[-1889.]\n",
            " [  290.]\n",
            " [ -140.]\n",
            " [   29.]\n",
            " [   89.]\n",
            " [  407.]]\n"
          ]
        }
      ],
      "execution_count": null
    },
    {
      "metadata": {
        "id": "e5e8d5d2b53764e6"
      },
      "cell_type": "markdown",
      "source": [
        "1) При увеличении параметра Por на 1% добыча вырастает на 290 млн. кубических футов в сутки. Предыдущее значение 230 - влияние фактора на результат выросло.\n",
        "2) При увеличении параметра AI на 1 добыча снизится на 140 млн. кубических футов в сутки. Предыдущее значение (-365) - влияние фактора на результат снизилось.\n",
        "3) При увеличении параметра TOC на 1% добыча вырастает на 89 млн. кубических футов в сутки. Предыдущее значение (-78) - коэффициент сменил знак и теперь соответствует направлению связи по матрице корреляции."
      ],
      "id": "e5e8d5d2b53764e6"
    },
    {
      "metadata": {
        "ExecuteTime": {
          "end_time": "2024-11-17T16:13:37.255235Z",
          "start_time": "2024-11-17T16:13:37.249053Z"
        },
        "id": "f60ce199051a17f5",
        "outputId": "3e6b3ad8-a037-4f52-9cbb-a49760ca7a0f"
      },
      "cell_type": "code",
      "source": [
        "prediction_clean = x_clean@w_hat_clean\n",
        "avg_deviation_clean = (np.abs(cleaned_data['Prod'] - prediction_clean['Prod'])).sum() / cleaned_data.shape[0]\n",
        "avg_square_deviation_clean = ((cleaned_data['Prod'] - prediction_clean['Prod']) ** 2).sum() / cleaned_data.shape[0]\n",
        "print(f'Среднее отклонение очищенных реальных данных от прогноза = {avg_deviation_clean}')\n",
        "print(f'Среднее квадратическое отклонение очищенных реальных данных от прогноза = {avg_square_deviation_clean}')"
      ],
      "id": "f60ce199051a17f5",
      "outputs": [
        {
          "name": "stdout",
          "output_type": "stream",
          "text": [
            "Среднее отклонение очищенных реальных данных от прогноза = 170.36541690392303\n",
            "Среднее квадратическое отклонение очищенных реальных данных от прогноза = 53393.67973621555\n"
          ]
        }
      ],
      "execution_count": null
    },
    {
      "cell_type": "markdown",
      "source": [
        "4) Отклонение прогноза от факта по-прежнему высоко и даже увеличилось - модель по-прежнему дает большую ошибку.\n",
        "5) Побороть разнонаправленность корреляций и коэффициентов удалось."
      ],
      "metadata": {
        "id": "KxbYvMDo_WLe"
      },
      "id": "KxbYvMDo_WLe"
    },
    {
      "cell_type": "markdown",
      "id": "7d50db12",
      "metadata": {
        "id": "7d50db12"
      },
      "source": [
        "### Задание 5.6. (1 балл)\n",
        "\n",
        "Наконец, давайте построим модель линейной регрессии из библиотеки `scikit-learn (sklearn)` и сравним результаты её работы с теми, что нам удалось получить вручную.\n",
        "\n",
        "Постройте модель линейной регрессии на обновлённых после удаления факторов данных по методу наименьших квадратов. Для этого воспользуйтесь классом `LinearRegression` из библиотеки `sklearn`. Выведите значения полученных коэффициентов, округлённые до целого.\n",
        "\n",
        "Сделайте прогноз для всего обучающего набора данных и рассчитайте значение выбранной вами метрики (или метрик).\n",
        "\n",
        "Сравните результаты библиотечной реализации с тем, что вы получили ранее."
      ]
    },
    {
      "cell_type": "markdown",
      "source": [
        "**Критерии оценивания:**\n",
        "\n",
        "- Задание выполнено верно, учтены все условия (**1 балл**):\n",
        "    * на основе отобранных факторов построена модель линейной регрессии из библиотеки sklearn и найдены параметры модели, соответствующие каждому из факторов;\n",
        "    * построен прогноз для всего обучающего набора данных и рассчитано значение метрики (метрика должна быть выбрана корректно);\n",
        "    * приведён вывод о соответствии результатов, полученных вручную и с помощью библиотеки.\n",
        "- Задание выполнено неверно, не учтено одно или несколько условий (**0 баллов**)."
      ],
      "metadata": {
        "id": "emu5D3w278JP"
      },
      "id": "emu5D3w278JP"
    },
    {
      "metadata": {
        "id": "Gpdpfq59AKGu",
        "ExecuteTime": {
          "end_time": "2024-11-17T16:13:37.366220Z",
          "start_time": "2024-11-17T16:13:37.353558Z"
        },
        "outputId": "33ab6c02-7772-498b-c129-af21ecd66395"
      },
      "cell_type": "code",
      "source": [
        "# Ваш код здесь\n",
        "from sklearn.linear_model import LinearRegression\n",
        "\n",
        "# создаём модель линейной регрессии\n",
        "lr = LinearRegression(fit_intercept=False)\n",
        "# вычисляем коэффициенты регрессии\n",
        "lr.fit(x_clean, y_clean)\n",
        "\n",
        "print('Коэффициенты, посчитанные библиотекой sklearn:', np.round(lr.coef_))\n",
        "\n",
        "# посчитаем прогноз для всех данных\n",
        "new_prediction_lr = lr.predict(x_clean)\n",
        "# для удобства представим прогноз в виде датафрейма\n",
        "df_prediction_lr = pd.DataFrame(new_prediction_lr)\n",
        "\n",
        "# посчитаем метрики среднего абсолютного (MAE) и среднего квадратического (MSE) отклонений\n",
        "lr_mae = (np.abs(cleaned_data['Prod'] - df_prediction_lr[0])).sum() / cleaned_data.shape[0]\n",
        "lr_mse = ((cleaned_data['Prod'] - df_prediction_lr[0]) ** 2).sum() / cleaned_data.shape[0]\n",
        "\n",
        "print(f'Среднее отклонение, посчитанное библиотекой sklearn = {lr_mae}')\n",
        "print(f'Среднее квадратическое отклонение, посчитанное библиотекой sklearn = {lr_mse}')"
      ],
      "id": "Gpdpfq59AKGu",
      "outputs": [
        {
          "name": "stdout",
          "output_type": "stream",
          "text": [
            "Коэффициенты, посчитанные библиотекой sklearn: [[-1889.   290.  -140.    29.    89.   407.]]\n",
            "Среднее отклонение, посчитанное библиотекой sklearn = 170.36541690392488\n",
            "Среднее квадратическое отклонение, посчитанное библиотекой sklearn = 53393.67973621556\n"
          ]
        }
      ],
      "execution_count": null
    },
    {
      "cell_type": "markdown",
      "source": [
        "Видим, что коэффициенты и метрики ошибок, полученные с помощью библиотеки numpy и с помощью библиотеки sklearn, аналогичны."
      ],
      "metadata": {
        "id": "WT9cdHAbAMG7"
      },
      "id": "WT9cdHAbAMG7"
    },
    {
      "cell_type": "markdown",
      "id": "5346338e",
      "metadata": {
        "id": "5346338e"
      },
      "source": [
        "## Практика: полиномиальная регрессия и регуляризация"
      ]
    },
    {
      "cell_type": "markdown",
      "id": "aad9e3a6",
      "metadata": {
        "id": "aad9e3a6"
      },
      "source": [
        "Мы продолжаем работать над задачей от владельца компании «Газ-Таз-Ваз-Нефть» Василия.\n",
        "\n",
        "Ранее мы построили модель линейной регрессии, которая прогнозирует выработку газа на скважине. Для этого мы с помощью матрицы корреляций и рассуждений отобрали некоррелированные, значимые для предсказания признаки. **Далее мы будем использовать именно их (см. задание 5.5).**\n",
        "\n",
        "Мы хотим улучшить результат — уменьшить ошибку прогноза. Для этого мы воспользуемся моделью полиномиальной регрессии третьей степени. Однако теперь мы знаем, что полиномиальным моделям очень легко переобучиться под исходную выборку. Так как данных у нас не так много (всего 200 скважин), то для контроля качества модели мы будем использовать кросс-валидацию.\n",
        "\n",
        "Приступим! Выполните задания 8.1–8.5:\n"
      ]
    },
    {
      "cell_type": "code",
      "id": "18506d1b",
      "metadata": {
        "id": "18506d1b",
        "ExecuteTime": {
          "end_time": "2024-11-17T16:13:37.487004Z",
          "start_time": "2024-11-17T16:13:37.481317Z"
        }
      },
      "source": [
        "from sklearn.preprocessing import PolynomialFeatures, StandardScaler\n",
        "from sklearn.linear_model import LinearRegression, Lasso, Ridge, ElasticNet\n",
        "from sklearn.model_selection import GridSearchCV\n",
        "from sklearn.model_selection import cross_validate"
      ],
      "outputs": [],
      "execution_count": null
    },
    {
      "cell_type": "markdown",
      "id": "bfbfea8d",
      "metadata": {
        "id": "bfbfea8d"
      },
      "source": [
        "### Задание 8.1. (1 балл)\n",
        "\n",
        "Стандаризируйте признаки с помощью `StandartScaler` из библиотеки `sklearn`.\n",
        "\n",
        "Затем сгенерируйте полиномиальные признаки третьего порядка на факторах, которые вы выбрали для обучения моделей. Для этого воспользуйтесь генератором полиномов `PolynomialFeatures` из библиотеки `sklearn`. Параметр `include_bias` установите в значение `False`.\n",
        "\n",
        "Выведите на экран, сколько факторов у вас получилось после генерации полиномиальных признаков.\n",
        "\n",
        "**Важно:** стандартизацию необходимо произвести до генерации полиномиальных факторов!\n",
        "\n",
        "Обучите модель линейной регрессии из библиотеки `sklearn` (`LinearRegression`) на полученных полиномиальных факторах.\n",
        "\n",
        "Используя кросс-валидацию оцените среднее значение выбранной вами метрики (или метрик) на тренировочных и валидационных фолдах.\n",
        "\n",
        "Проинтерпретируйте полученные результаты."
      ]
    },
    {
      "cell_type": "markdown",
      "source": [
        "**Критерии оценивания:**\n",
        "\n",
        "- Задание выполнено верно, учтены все условия (**1 балл**):\n",
        "    * на основе отобранных факторов сгенерированы полиномиальные признаки третьего порядка;\n",
        "    * построена модель полиномиальной регрессии (линейной регрессии на полиномиальных признаках);\n",
        "    * с помощью кросс-валидации оценено среднее значение выбранной студентом метрики (или метрик) на тренировочных и валидационных фолдах (метрика должна быть выбрана корректно).\n",
        "- Задание выполнено неверно, не учтено одно или несколько из условий (**0 баллов**)."
      ],
      "metadata": {
        "id": "Y8oAhQkr8gV-"
      },
      "id": "Y8oAhQkr8gV-"
    },
    {
      "cell_type": "code",
      "source": [
        "# Ваш код здесь\n",
        "X = cleaned_data[['Por', 'AI', 'Brittle', 'TOC', 'VR']]\n",
        "y = cleaned_data['Prod']\n",
        "\n",
        "scaler = StandardScaler()\n",
        "# стандартизируем признаки\n",
        "X_scaled = scaler.fit_transform(X)\n",
        "\n",
        "poly = PolynomialFeatures(degree=3, include_bias=False)\n",
        "# добавляем полиномиальные признаки\n",
        "X_poly = poly.fit_transform(X_scaled)\n",
        "\n",
        "print(f'Количество получившихся факторов = {X_poly.shape[1]}')\n",
        "\n",
        "# создаем модель линейной регрессии с интерцептом\n",
        "lr_poly = LinearRegression(fit_intercept=True)\n",
        "# проводим кросс-валидацию по двум метрикам\n",
        "lr_poly_mae = cross_validate(lr_poly, X_poly, y, scoring='neg_mean_absolute_error', cv=5, return_train_score=True)\n",
        "lr_poly_mse = cross_validate(lr_poly, X_poly, y, scoring='neg_mean_squared_error', cv=5, return_train_score=True)\n",
        "\n",
        "print('MAE на тренировочных фолдах: {:.2f}'.format(-lr_poly_mae['train_score'].mean()))\n",
        "print('MAE на валидационных фолдах: {:.2f}'.format(-lr_poly_mae['test_score'].mean()))\n",
        "print('MSE на тренировочных фолдах: {:.2f}'.format(-lr_poly_mse['train_score'].mean()))\n",
        "print('MSE на валидационных фолдах: {:.2f}'.format(-lr_poly_mse['test_score'].mean()))"
      ],
      "metadata": {
        "id": "-ln3bx8NFNRw",
        "ExecuteTime": {
          "end_time": "2024-11-17T16:13:37.636301Z",
          "start_time": "2024-11-17T16:13:37.574802Z"
        },
        "outputId": "bc2b61c6-d0a5-4d89-d2fc-27ac18df74bc"
      },
      "id": "-ln3bx8NFNRw",
      "outputs": [
        {
          "name": "stdout",
          "output_type": "stream",
          "text": [
            "Количество получившихся факторов = 55\n",
            "MAE на тренировочных фолдах: 61.91\n",
            "MAE на валидационных фолдах: 116.97\n",
            "MSE на тренировочных фолдах: 6809.78\n",
            "MSE на валидационных фолдах: 24965.78\n"
          ]
        }
      ],
      "execution_count": null
    },
    {
      "cell_type": "markdown",
      "source": [
        "Выводы:\n",
        "1) Обе метрики значительно снизились, по сравнению с обычной линейной регрессией, что говорит о повышении качества модели.\n",
        "2) Для обеих метрик видно значительное отличие значений между тренировочными и валидационными фолдами, что говорит о переобученности модели, но неудивительно, учитывая малое количество наблюдений в исходном датасете."
      ],
      "metadata": {
        "id": "9DkuuLLtFPPy"
      },
      "id": "9DkuuLLtFPPy"
    },
    {
      "cell_type": "markdown",
      "id": "63d06013",
      "metadata": {
        "id": "63d06013"
      },
      "source": [
        "### Задание 8.2. (2 балла)\n",
        "\n",
        "Теперь попробуем воспользоваться линейной регрессией с регуляризацией. Для начала возьмём $L_1$-регуляризацию.\n",
        "\n",
        "Обучите модель `Lasso` из библиотеки `sklearn` на полученных полиномиальных факторах, предварительно стандартизировав факторы.\n",
        "\n",
        "Коэффициент регуляризации (`alpha`) подберите самостоятельно с помощью любого известного вам метода подбора гиперпаметров.\n",
        "\n",
        "Используя кросс-валидацию, оцените среднее значение выбранной вами метрики (или метрик) на тренировочных и валидационных фолдах.\n",
        "\n",
        "Проинтерпретируйте полученные результаты."
      ]
    },
    {
      "cell_type": "markdown",
      "source": [
        "**Критерии оценивания:**\n",
        "\n",
        "- Задание выполнено верно, учтены все условия (**2 балла**):\n",
        "    * правильно построена модель полиномиальной регрессии (линейной регрессии на полиномиальных признаках) с регуляризацией (Lasso), учтены условия необходимости масштабирования факторов для построения модели;\n",
        "    * приведён код для подбора параметра регуляризации (вручную или с помощью библиотечных инструментов);\n",
        "    * с помощью кросс-валидации оценено среднее значение выбранной студентом метрики (или метрик) на тренировочных и валидационных фолдах (метрика должна быть выбрана корректно).\n",
        "\n",
        "- Задание выполнено верно, но не учтено одно из условий (**1 балл**).\n",
        "- Задание выполнено неверно, не учтено несколько условий (**0 баллов**)."
      ],
      "metadata": {
        "id": "z24YUfuA9rUq"
      },
      "id": "z24YUfuA9rUq"
    },
    {
      "cell_type": "code",
      "source": [
        "# Ваш код здесь\n",
        "# Создание словаря, содержащего потенциальные значения альфа\n",
        "alpha_values = {'alpha': [0.5, 1, 2, 3, 4, 5, 6, 7, 8, 9, 10, 20]}\n",
        "\n",
        "# Передача в GridSearchCV модели, потенциальных альфа-значений,\n",
        "# метрики качества\n",
        "lasso_gs = GridSearchCV(Lasso(fit_intercept=True, max_iter=10000),\n",
        "                     alpha_values,\n",
        "                     scoring=['neg_mean_absolute_error', 'neg_mean_squared_error'],\n",
        "                     refit='neg_mean_absolute_error',\n",
        "                     cv=5)\n",
        "\n",
        "# лучшие найденные гиперпараметры\n",
        "best_params_lasso = lasso_gs.fit(X_poly, y).best_params_\n",
        "alpha_lasso = best_params_lasso['alpha']\n",
        "\n",
        "print('Лучшее значение alpha:', alpha_lasso)\n",
        "\n",
        "# создаем модель\n",
        "lasso = Lasso(alpha=alpha_lasso, fit_intercept=True)\n",
        "\n",
        "# проводим кросс-валидацию по двум метрикам\n",
        "lasso_mae = cross_validate(lasso, X_poly, y, scoring='neg_mean_absolute_error', cv=5, return_train_score=True)\n",
        "lasso_mse = cross_validate(lasso, X_poly, y, scoring='neg_mean_squared_error', cv=5, return_train_score=True)\n",
        "\n",
        "print('MAE на тренировочных фолдах: {:.2f}'.format(-lasso_mae['train_score'].mean()))\n",
        "print('MAE на валидационных фолдах: {:.2f}'.format(-lasso_mae['test_score'].mean()))\n",
        "print('MSE на тренировочных фолдах: {:.2f}'.format(-lasso_mse['train_score'].mean()))\n",
        "print('MSE на валидационных фолдах: {:.2f}'.format(-lasso_mse['test_score'].mean()))"
      ],
      "metadata": {
        "id": "IJ5b5G8qFz-r",
        "ExecuteTime": {
          "end_time": "2024-11-17T16:13:38.155108Z",
          "start_time": "2024-11-17T16:13:37.731942Z"
        },
        "outputId": "d4d1efd9-32d3-44b0-d5ac-132eab0aa916"
      },
      "id": "IJ5b5G8qFz-r",
      "outputs": [
        {
          "name": "stdout",
          "output_type": "stream",
          "text": [
            "Лучшее значение alpha: 4\n",
            "MAE на тренировочных фолдах: 71.32\n",
            "MAE на валидационных фолдах: 88.98\n",
            "MSE на тренировочных фолдах: 9349.06\n",
            "MSE на валидационных фолдах: 14651.15\n"
          ]
        }
      ],
      "execution_count": null
    },
    {
      "cell_type": "markdown",
      "source": [
        "Использование $L_1$-регуляризации повысило качество модели:\n",
        "1) значение метрик ошибок на валидационных фолдах снизилось по сравнению с полиномиальной регрессией\n",
        "2) разница между значениями метрик на тренировочных и валидационных фолдах снизилась, что говорит о снижении переобученности модели."
      ],
      "metadata": {
        "id": "Se0OGR8UF2Td"
      },
      "id": "Se0OGR8UF2Td"
    },
    {
      "cell_type": "markdown",
      "id": "2975ae60",
      "metadata": {
        "id": "2975ae60"
      },
      "source": [
        "### Задание 8.3. (2 балла)\n",
        "\n",
        "Проделаем то же самое с $L_2$-регуляризацией.\n",
        "\n",
        "Обучите модель `Ridge` из библиотеки `sklearn` на полученных полиномиальных факторах, предварительно стандартизировав факторы.\n",
        "\n",
        "Коэффициент регуляризации (`alpha`) подберите самостоятельно с помощью любого известного вам метода подбора гиперпаметров.\n",
        "\n",
        "Используя кросс-валидацию оцените среднее значение выбранной вами метрики (или метрик) на тренировочных и валидационных фолдах.\n",
        "\n",
        "Проинтерпретируйте полученные результаты."
      ]
    },
    {
      "metadata": {
        "id": "UfPGyNsjGGS8",
        "ExecuteTime": {
          "end_time": "2024-11-17T16:13:38.519930Z",
          "start_time": "2024-11-17T16:13:38.215031Z"
        },
        "outputId": "84c05497-04a8-430e-d40d-56876674f516"
      },
      "cell_type": "code",
      "source": [
        "# Ваш код здесь\n",
        "# Передача в GridSearchCV модели, потенциальных альфа-значений,\n",
        "# метрики качества\n",
        "ridge_gs = GridSearchCV(Ridge(fit_intercept=True),\n",
        "                        alpha_values,\n",
        "                        scoring=['neg_mean_absolute_error', 'neg_mean_squared_error'],\n",
        "                        refit='neg_mean_absolute_error',\n",
        "                        cv=5)\n",
        "\n",
        "# лучшие найденные гиперпараметры\n",
        "best_params_ridge = ridge_gs.fit(X_poly, y).best_params_\n",
        "alpha_ridge = best_params_ridge['alpha']\n",
        "\n",
        "print('Лучшее значение alpha:', alpha_ridge)\n",
        "\n",
        "# создаем модель\n",
        "ridge = Ridge(alpha=alpha_ridge, fit_intercept=True)\n",
        "\n",
        "# проводим кросс-валидацию по двум метрикам\n",
        "ridge_mae = cross_validate(ridge, X_poly, y, scoring='neg_mean_absolute_error', cv=5, return_train_score=True)\n",
        "ridge_mse = cross_validate(ridge, X_poly, y, scoring='neg_mean_squared_error', cv=5, return_train_score=True)\n",
        "\n",
        "print('MAE на тренировочных фолдах: {:.2f}'.format(-ridge_mae['train_score'].mean()))\n",
        "print('MAE на валидационных фолдах: {:.2f}'.format(-ridge_mae['test_score'].mean()))\n",
        "print('MSE на тренировочных фолдах: {:.2f}'.format(-ridge_mse['train_score'].mean()))\n",
        "print('MSE на валидационных фолдах: {:.2f}'.format(-ridge_mse['test_score'].mean()))"
      ],
      "id": "UfPGyNsjGGS8",
      "outputs": [
        {
          "name": "stdout",
          "output_type": "stream",
          "text": [
            "Лучшее значение alpha: 1\n",
            "MAE на тренировочных фолдах: 65.19\n",
            "MAE на валидационных фолдах: 105.37\n",
            "MSE на тренировочных фолдах: 7648.93\n",
            "MSE на валидационных фолдах: 19414.05\n"
          ]
        }
      ],
      "execution_count": null
    },
    {
      "cell_type": "markdown",
      "source": [
        "Хотя значения метрик показывают, что использование $L_2$-регуляризации повысило качество модели по сравнению с полиномиальной регрессией (меньше значение метрик на валидационных фолдах и меньше разброс между тренировочными и валидационными фолдами), по сравнению с $L_1$-регуляризацией качество снизилось как по значению метрик, так и по разбросу значений между тренировочными и валидационными фолдами."
      ],
      "metadata": {
        "id": "dQBd7ny_GIi1"
      },
      "id": "dQBd7ny_GIi1"
    },
    {
      "cell_type": "markdown",
      "source": [
        "**Критерии оценивания:**\n",
        "\n",
        "- Задание выполнено верно, учтены все условия (**2 балла**):\n",
        "    * правильно построена модель полиномиальной регрессии (линейной регрессии на полиномиальных признаках) с регуляризацией (Ridge), учтены условия необходимости масштабирования факторов для построения модели;\n",
        "    * приведён код для подбора параметра регуляризации (вручную или с помощью библиотечных инструментов);\n",
        "    * с помощью кросс-валидации оценено среднее значение выбранной студентом метрики (или метрик) на тренировочных и валидационных фолдах (метрика должна быть выбрана корректно).\n",
        "\n",
        "- Задание выполнено верно, но не учтено одно из условий (**1 балл**).\n",
        "- Задание выполнено неверно, не учтено несколько условий (**0 баллов**)."
      ],
      "metadata": {
        "id": "86pXnWE7-5ch"
      },
      "id": "86pXnWE7-5ch"
    },
    {
      "cell_type": "markdown",
      "id": "7ad85b78",
      "metadata": {
        "id": "7ad85b78"
      },
      "source": [
        "### Задание 8.4. (2 балла)\n",
        "\n",
        "Наконец, настало время комбинировать $L_1$ и $L_2$ -регуляризации.\n",
        "\n",
        "Обучите модель `ElasticNet` из библиотеки `sklearn` на полученных полиномиальных факторах, предварительно стандартизировав факторы.\n",
        "\n",
        "Коэффициенты регуляризации (`alpha` и `l1-ratio`) подберите самостоятельно с помощью любого известного вам метода подбора гиперпаметров.\n",
        "\n",
        "Используя кросс-валидацию, оцените среднее значение метрики MAPE на тренировочных и валидационных фолдах.\n",
        "\n",
        "Проинтерпретируйте полученные результаты."
      ]
    },
    {
      "cell_type": "markdown",
      "source": [
        "**Критерии оценивания:**\n",
        "\n",
        "- Задание выполнено верно, учтены все условия (**2 балла**):\n",
        "    * правильно построена модель полиномиальной регрессии (линейной регрессии на полиномиальных признаках) с регуляризацией (ElasticNet), учтены условия необходимости масштабирования факторов для построения модели;\n",
        "    * приведён код для подбора параметра регуляризации (вручную или с помощью библиотечных инструментов);\n",
        "    * с помощью кросс-валидации оценено среднее значение выбранной студентом метрики (или метрик) на тренировочных и валидационных фолдах (метрика должна быть выбрана корректно).\n",
        "\n",
        "- Задание выполнено верно, но не учтено одно из условий (**1 балл**).\n",
        "- Задание выполнено неверно, не учтено несколько условий (**0 баллов**)."
      ],
      "metadata": {
        "id": "sy8ESceQ-__u"
      },
      "id": "sy8ESceQ-__u"
    },
    {
      "cell_type": "code",
      "source": [
        "# Ваш код здесь\n",
        "import warnings\n",
        "warnings.filterwarnings('ignore')\n",
        "\n",
        "grid_values = {\n",
        "    'alpha': [0.1, 1, 2, 3, 4, 5, 6, 7, 8, 9, 10, 20],\n",
        "    'l1_ratio': [0.1, 0.2, 0.3, 0.4, 0.5, 0.6, 0.7, 0.8, 0.9]\n",
        "}\n",
        "# Передача в GridSearchCV модели, потенциальных альфа-значений,\n",
        "# метрики качества\n",
        "en_gs = GridSearchCV(ElasticNet(fit_intercept=True, max_iter=10000),\n",
        "                        grid_values,\n",
        "                        scoring=['neg_mean_absolute_error', 'neg_mean_squared_error'],\n",
        "                        refit='neg_mean_absolute_error',\n",
        "                        cv=5)\n",
        "\n",
        "# лучшие найденные гиперпараметры\n",
        "best_params_en = en_gs.fit(X_poly, y).best_params_\n",
        "alpha_en = best_params_en['alpha']\n",
        "l1_ratio_en = best_params_en['l1_ratio']\n",
        "\n",
        "print(f'Лучшее значение alpha: {alpha_en}, l1_ratio: {l1_ratio_en}')\n",
        "\n",
        "# создаем модель\n",
        "en = ElasticNet(alpha=alpha_en, l1_ratio=l1_ratio_en, fit_intercept=True)\n",
        "\n",
        "# проводим кросс-валидацию по двум метрикам\n",
        "en_mae = cross_validate(en, X_poly, y, scoring='neg_mean_absolute_error', cv=5, return_train_score=True)\n",
        "en_mse = cross_validate(en, X_poly, y, scoring='neg_mean_squared_error', cv=5, return_train_score=True)\n",
        "\n",
        "print('MAE на тренировочных фолдах: {:.2f}'.format(-en_mae['train_score'].mean()))\n",
        "print('MAE на валидационных фолдах: {:.2f}'.format(-en_mae['test_score'].mean()))\n",
        "print('MSE на тренировочных фолдах: {:.2f}'.format(-en_mse['train_score'].mean()))\n",
        "print('MSE на валидационных фолдах: {:.2f}'.format(-en_mse['test_score'].mean()))\n",
        "\n"
      ],
      "metadata": {
        "id": "-Yi3P20hQnLS",
        "ExecuteTime": {
          "end_time": "2024-11-17T16:13:40.916033Z",
          "start_time": "2024-11-17T16:13:38.589519Z"
        },
        "outputId": "045643e5-ffa8-4369-b251-0c0fdc5f54e7"
      },
      "id": "-Yi3P20hQnLS",
      "outputs": [
        {
          "name": "stdout",
          "output_type": "stream",
          "text": [
            "Лучшее значение alpha: 0.1, l1_ratio: 0.9\n",
            "MAE на тренировочных фолдах: 68.26\n",
            "MAE на валидационных фолдах: 106.35\n",
            "MSE на тренировочных фолдах: 8351.25\n",
            "MSE на валидационных фолдах: 19604.80\n"
          ]
        }
      ],
      "execution_count": null
    },
    {
      "cell_type": "markdown",
      "source": [
        "1) Из расчетов намеренно были исключены пограничные значения l1_ratio, так как два чистых варианта регуляризации были рассмотрены отдельно выше.\n",
        "2) Результаты на валидационных фолдах получились хуже, чем в обоих чистых вариантах.\n",
        "3) Большой разброс значений между тренировочными и валидационными фолдами говорит о переобучении модели.\n",
        "4) Параметр l1_ratio принял максимальное из возможных значений, то есть модель стремится к $L_1$-регуляризации."
      ],
      "metadata": {
        "id": "er2lAiE9QpAb"
      },
      "id": "er2lAiE9QpAb"
    },
    {
      "cell_type": "markdown",
      "id": "91c6e1d1",
      "metadata": {
        "id": "91c6e1d1"
      },
      "source": [
        "### Задание 8.5. (1 балл)\n",
        "\n",
        "Завершением вашей работы будет сводная таблица результатов, которую вы представите на презентации заказчику Василию.\n",
        "\n",
        "Составьте таблицу (DataFrame) со следующими столбцами (имена столбцов выберите самостоятельно):\n",
        "* Наименование модели.\n",
        "* Гиперпараметры (коэффициенты регуляризации, если таковые имеются), если нет — оставьте ячейку пустой.\n",
        "* Использовались ли полиномиальные признаки при построении модели (Да/Нет или True/False).\n",
        "* Значение выбранной метрики на тренировочных фолдах при кросс-валидации модели.\n",
        "* Значение выбранной метрики на валидационных фолдах при кросс-валидации модели.\n",
        "\n",
        "Сделайте финальный вывод по проделанной работе. Какая линейная модель из тех, что мы рассмотрели, показала наилучший результат с точки зрения качества на валидационных фолдах, а также с точки зрения переобученности?"
      ]
    },
    {
      "cell_type": "markdown",
      "source": [
        "**Критерии оценивания:**\n",
        "\n",
        "- Задание выполнено верно, учтены все условия (**1 балл**):\n",
        "    * верно составлена сводная таблица итоговых результатов построенных ранее моделей с указанными в задании столбцами;\n",
        "    * приведены итоговые выводы по проделанной работе, указано, какая из рассмотренных моделей показала наилучший результат.\n",
        "\n",
        "- Задание выполнено неверно, не учтено одно или несколько условий (**0 баллов**)."
      ],
      "metadata": {
        "id": "OsFRaKkF_nLq"
      },
      "id": "OsFRaKkF_nLq"
    },
    {
      "metadata": {
        "ExecuteTime": {
          "end_time": "2024-11-17T16:13:41.020837Z",
          "start_time": "2024-11-17T16:13:40.973772Z"
        },
        "id": "3cc31f48dfe2e314",
        "outputId": "c8e443c0-8812-41bc-a961-4120394a2efc"
      },
      "cell_type": "code",
      "source": [
        "# сначала для полноты данных проведем кросс-валидацию модели линейной регрессии без полиномиальных признаков\n",
        "lr_mae = cross_validate(lr, x_clean, y_clean, scoring='neg_mean_absolute_error', cv=5, return_train_score=True)\n",
        "lr_mse = cross_validate(lr, x_clean, y_clean, scoring='neg_mean_squared_error', cv=5, return_train_score=True)\n",
        "\n",
        "print('MAE на тренировочных фолдах: {:.2f}'.format(-lr_mae['train_score'].mean()))\n",
        "print('MAE на валидационных фолдах: {:.2f}'.format(-lr_mae['test_score'].mean()))\n",
        "print('MSE на тренировочных фолдах: {:.2f}'.format(-lr_mse['train_score'].mean()))\n",
        "print('MSE на валидационных фолдах: {:.2f}'.format(-lr_mse['test_score'].mean()))"
      ],
      "id": "3cc31f48dfe2e314",
      "outputs": [
        {
          "name": "stdout",
          "output_type": "stream",
          "text": [
            "MAE на тренировочных фолдах: 169.63\n",
            "MAE на валидационных фолдах: 179.87\n",
            "MSE на тренировочных фолдах: 52763.70\n",
            "MSE на валидационных фолдах: 59199.52\n"
          ]
        }
      ],
      "execution_count": null
    },
    {
      "cell_type": "code",
      "source": [
        "# Ваш код здесь\n",
        "# создадим справочник из данных по моделям\n",
        "dict = {\n",
        "    'Модель': ['Lineal', 'Polynomial', 'Lasso', 'Ridge', 'ElasticNet'],\n",
        "    'Гиперпараметры': [np.nan, np.nan, best_params_lasso, best_params_ridge, best_params_en],\n",
        "    'Полиномиальные признаки': [False, True, True, True, True],\n",
        "    'MAE train': [-lr_mae['train_score'].mean(),-lr_poly_mae['train_score'].mean(),-lasso_mae['train_score'].mean(),-ridge_mae['train_score'].mean(),-en_mae['train_score'].mean()],\n",
        "    'MAE test': [-lr_mae['test_score'].mean(),-lr_poly_mae['test_score'].mean(),-lasso_mae['test_score'].mean(),-ridge_mae['test_score'].mean(),-en_mae['test_score'].mean()],\n",
        "    'MSE train': [-lr_mse['train_score'].mean(),-lr_poly_mse['train_score'].mean(),-lasso_mse['train_score'].mean(),-ridge_mse['train_score'].mean(),-en_mse['train_score'].mean()],\n",
        "    'MSE test': [-lr_mse['test_score'].mean(),-lr_poly_mse['test_score'].mean(),-lasso_mse['test_score'].mean(),-ridge_mse['test_score'].mean(),-en_mse['test_score'].mean()],\n",
        "}\n",
        "\n",
        "# создаем датафрейм\n",
        "df = pd.DataFrame(dict)\n",
        "\n",
        "# для удобства анализа добавим столбцы с отклонением метрик между валидационными и тренировочными фолдами\n",
        "df['MAE dev'] = df['MAE test'] - df['MAE train']\n",
        "df['MSE dev'] = df['MSE test'] - df['MSE train']\n",
        "df"
      ],
      "metadata": {
        "id": "wRiys8lKQuqW",
        "ExecuteTime": {
          "end_time": "2024-11-17T16:13:41.143827Z",
          "start_time": "2024-11-17T16:13:41.125996Z"
        },
        "outputId": "4fa94d62-e35f-4e92-e22e-068ec93314d3"
      },
      "id": "wRiys8lKQuqW",
      "outputs": [
        {
          "data": {
            "text/plain": [
              "       Модель                   Гиперпараметры  Полиномиальные признаки  \\\n",
              "0      Lineal                              NaN                    False   \n",
              "1  Polynomial                              NaN                     True   \n",
              "2       Lasso                     {'alpha': 4}                     True   \n",
              "3       Ridge                     {'alpha': 1}                     True   \n",
              "4  ElasticNet  {'alpha': 0.1, 'l1_ratio': 0.9}                     True   \n",
              "\n",
              "    MAE train    MAE test     MSE train      MSE test    MAE dev       MSE dev  \n",
              "0  169.631878  179.871065  52763.700219  59199.517278  10.239186   6435.817059  \n",
              "1   61.913339  116.969121   6809.782493  24965.782790  55.055782  18156.000297  \n",
              "2   71.316109   88.976787   9349.064406  14651.152635  17.660678   5302.088229  \n",
              "3   65.192889  105.371899   7648.930915  19414.045227  40.179010  11765.114312  \n",
              "4   68.256934  106.351305   8351.250769  19604.796009  38.094370  11253.545239  "
            ],
            "text/html": [
              "<div>\n",
              "<style scoped>\n",
              "    .dataframe tbody tr th:only-of-type {\n",
              "        vertical-align: middle;\n",
              "    }\n",
              "\n",
              "    .dataframe tbody tr th {\n",
              "        vertical-align: top;\n",
              "    }\n",
              "\n",
              "    .dataframe thead th {\n",
              "        text-align: right;\n",
              "    }\n",
              "</style>\n",
              "<table border=\"1\" class=\"dataframe\">\n",
              "  <thead>\n",
              "    <tr style=\"text-align: right;\">\n",
              "      <th></th>\n",
              "      <th>Модель</th>\n",
              "      <th>Гиперпараметры</th>\n",
              "      <th>Полиномиальные признаки</th>\n",
              "      <th>MAE train</th>\n",
              "      <th>MAE test</th>\n",
              "      <th>MSE train</th>\n",
              "      <th>MSE test</th>\n",
              "      <th>MAE dev</th>\n",
              "      <th>MSE dev</th>\n",
              "    </tr>\n",
              "  </thead>\n",
              "  <tbody>\n",
              "    <tr>\n",
              "      <th>0</th>\n",
              "      <td>Lineal</td>\n",
              "      <td>NaN</td>\n",
              "      <td>False</td>\n",
              "      <td>169.631878</td>\n",
              "      <td>179.871065</td>\n",
              "      <td>52763.700219</td>\n",
              "      <td>59199.517278</td>\n",
              "      <td>10.239186</td>\n",
              "      <td>6435.817059</td>\n",
              "    </tr>\n",
              "    <tr>\n",
              "      <th>1</th>\n",
              "      <td>Polynomial</td>\n",
              "      <td>NaN</td>\n",
              "      <td>True</td>\n",
              "      <td>61.913339</td>\n",
              "      <td>116.969121</td>\n",
              "      <td>6809.782493</td>\n",
              "      <td>24965.782790</td>\n",
              "      <td>55.055782</td>\n",
              "      <td>18156.000297</td>\n",
              "    </tr>\n",
              "    <tr>\n",
              "      <th>2</th>\n",
              "      <td>Lasso</td>\n",
              "      <td>{'alpha': 4}</td>\n",
              "      <td>True</td>\n",
              "      <td>71.316109</td>\n",
              "      <td>88.976787</td>\n",
              "      <td>9349.064406</td>\n",
              "      <td>14651.152635</td>\n",
              "      <td>17.660678</td>\n",
              "      <td>5302.088229</td>\n",
              "    </tr>\n",
              "    <tr>\n",
              "      <th>3</th>\n",
              "      <td>Ridge</td>\n",
              "      <td>{'alpha': 1}</td>\n",
              "      <td>True</td>\n",
              "      <td>65.192889</td>\n",
              "      <td>105.371899</td>\n",
              "      <td>7648.930915</td>\n",
              "      <td>19414.045227</td>\n",
              "      <td>40.179010</td>\n",
              "      <td>11765.114312</td>\n",
              "    </tr>\n",
              "    <tr>\n",
              "      <th>4</th>\n",
              "      <td>ElasticNet</td>\n",
              "      <td>{'alpha': 0.1, 'l1_ratio': 0.9}</td>\n",
              "      <td>True</td>\n",
              "      <td>68.256934</td>\n",
              "      <td>106.351305</td>\n",
              "      <td>8351.250769</td>\n",
              "      <td>19604.796009</td>\n",
              "      <td>38.094370</td>\n",
              "      <td>11253.545239</td>\n",
              "    </tr>\n",
              "  </tbody>\n",
              "</table>\n",
              "</div>"
            ]
          },
          "execution_count": 132,
          "metadata": {},
          "output_type": "execute_result"
        }
      ],
      "execution_count": null
    },
    {
      "cell_type": "markdown",
      "source": [
        "С точки зрения переобученности модели лучше всего себя показали обычная линейная регрессия (минимальное отклонение по MAE) и $L_1$-регуляризация (минимальное отклонение по MSE).\n",
        "С точки зрения результата на валидационных фолдах лучше всего себя показала $L_1$-регуляризация - и MAE и MSE минимальны.\n",
        "Таким образом, наиболее качественной в даноом случае является модель $L_1$-регуляризации."
      ],
      "metadata": {
        "id": "UP7_LSoEQsrA"
      },
      "id": "UP7_LSoEQsrA"
    }
  ],
  "metadata": {
    "kernelspec": {
      "display_name": "Python 3.10.8 ('base')",
      "language": "python",
      "name": "python3"
    },
    "language_info": {
      "codemirror_mode": {
        "name": "ipython",
        "version": 3
      },
      "file_extension": ".py",
      "mimetype": "text/x-python",
      "name": "python",
      "nbconvert_exporter": "python",
      "pygments_lexer": "ipython3",
      "version": "3.10.8"
    },
    "vscode": {
      "interpreter": {
        "hash": "86c56a74836ad344b00594bf6f38fa6a676a207ceefe20d101fbc465800ccb8d"
      }
    },
    "colab": {
      "provenance": [],
      "include_colab_link": true
    }
  },
  "nbformat": 4,
  "nbformat_minor": 5
}